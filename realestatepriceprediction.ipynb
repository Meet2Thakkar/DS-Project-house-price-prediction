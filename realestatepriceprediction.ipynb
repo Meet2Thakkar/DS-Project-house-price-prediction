{
 "cells": [
  {
   "cell_type": "code",
   "execution_count": 20,
   "id": "0e4f938f",
   "metadata": {
    "execution": {
     "iopub.execute_input": "2021-09-20T08:46:45.954814Z",
     "iopub.status.busy": "2021-09-20T08:46:45.954183Z",
     "iopub.status.idle": "2021-09-20T08:46:46.028640Z",
     "shell.execute_reply": "2021-09-20T08:46:46.029218Z",
     "shell.execute_reply.started": "2021-09-20T08:39:38.709508Z"
    },
    "papermill": {
     "duration": 0.120516,
     "end_time": "2021-09-20T08:46:46.029396",
     "exception": false,
     "start_time": "2021-09-20T08:46:45.908880",
     "status": "completed"
    },
    "tags": []
   },
   "outputs": [
    {
     "data": {
      "text/html": [
       "<div>\n",
       "<style scoped>\n",
       "    .dataframe tbody tr th:only-of-type {\n",
       "        vertical-align: middle;\n",
       "    }\n",
       "\n",
       "    .dataframe tbody tr th {\n",
       "        vertical-align: top;\n",
       "    }\n",
       "\n",
       "    .dataframe thead th {\n",
       "        text-align: right;\n",
       "    }\n",
       "</style>\n",
       "<table border=\"1\" class=\"dataframe\">\n",
       "  <thead>\n",
       "    <tr style=\"text-align: right;\">\n",
       "      <th></th>\n",
       "      <th>area_type</th>\n",
       "      <th>availability</th>\n",
       "      <th>location</th>\n",
       "      <th>size</th>\n",
       "      <th>society</th>\n",
       "      <th>total_sqft</th>\n",
       "      <th>bath</th>\n",
       "      <th>balcony</th>\n",
       "      <th>price</th>\n",
       "    </tr>\n",
       "  </thead>\n",
       "  <tbody>\n",
       "    <tr>\n",
       "      <th>0</th>\n",
       "      <td>Super built-up  Area</td>\n",
       "      <td>19-Dec</td>\n",
       "      <td>Electronic City Phase II</td>\n",
       "      <td>2 BHK</td>\n",
       "      <td>Coomee</td>\n",
       "      <td>1056</td>\n",
       "      <td>2.0</td>\n",
       "      <td>1.0</td>\n",
       "      <td>39.07</td>\n",
       "    </tr>\n",
       "    <tr>\n",
       "      <th>1</th>\n",
       "      <td>Plot  Area</td>\n",
       "      <td>Ready To Move</td>\n",
       "      <td>Chikka Tirupathi</td>\n",
       "      <td>4 Bedroom</td>\n",
       "      <td>Theanmp</td>\n",
       "      <td>2600</td>\n",
       "      <td>5.0</td>\n",
       "      <td>3.0</td>\n",
       "      <td>120.00</td>\n",
       "    </tr>\n",
       "    <tr>\n",
       "      <th>2</th>\n",
       "      <td>Built-up  Area</td>\n",
       "      <td>Ready To Move</td>\n",
       "      <td>Uttarahalli</td>\n",
       "      <td>3 BHK</td>\n",
       "      <td>NaN</td>\n",
       "      <td>1440</td>\n",
       "      <td>2.0</td>\n",
       "      <td>3.0</td>\n",
       "      <td>62.00</td>\n",
       "    </tr>\n",
       "    <tr>\n",
       "      <th>3</th>\n",
       "      <td>Super built-up  Area</td>\n",
       "      <td>Ready To Move</td>\n",
       "      <td>Lingadheeranahalli</td>\n",
       "      <td>3 BHK</td>\n",
       "      <td>Soiewre</td>\n",
       "      <td>1521</td>\n",
       "      <td>3.0</td>\n",
       "      <td>1.0</td>\n",
       "      <td>95.00</td>\n",
       "    </tr>\n",
       "    <tr>\n",
       "      <th>4</th>\n",
       "      <td>Super built-up  Area</td>\n",
       "      <td>Ready To Move</td>\n",
       "      <td>Kothanur</td>\n",
       "      <td>2 BHK</td>\n",
       "      <td>NaN</td>\n",
       "      <td>1200</td>\n",
       "      <td>2.0</td>\n",
       "      <td>1.0</td>\n",
       "      <td>51.00</td>\n",
       "    </tr>\n",
       "  </tbody>\n",
       "</table>\n",
       "</div>"
      ],
      "text/plain": [
       "              area_type   availability                  location       size  \\\n",
       "0  Super built-up  Area         19-Dec  Electronic City Phase II      2 BHK   \n",
       "1            Plot  Area  Ready To Move          Chikka Tirupathi  4 Bedroom   \n",
       "2        Built-up  Area  Ready To Move               Uttarahalli      3 BHK   \n",
       "3  Super built-up  Area  Ready To Move        Lingadheeranahalli      3 BHK   \n",
       "4  Super built-up  Area  Ready To Move                  Kothanur      2 BHK   \n",
       "\n",
       "   society total_sqft  bath  balcony   price  \n",
       "0  Coomee        1056   2.0      1.0   39.07  \n",
       "1  Theanmp       2600   5.0      3.0  120.00  \n",
       "2      NaN       1440   2.0      3.0   62.00  \n",
       "3  Soiewre       1521   3.0      1.0   95.00  \n",
       "4      NaN       1200   2.0      1.0   51.00  "
      ]
     },
     "execution_count": 20,
     "metadata": {},
     "output_type": "execute_result"
    }
   ],
   "source": [
    "import pandas as pd \n",
    "import numpy as np \n",
    "import matplotlib.pyplot as plt\n",
    "\n",
    "%matplotlib inline\n",
    "import matplotlib\n",
    "\n",
    "#matplotlib.rcparams['figure.figsize']=(20,10)\n",
    "\n",
    "df1=pd.read_csv('Bengaluru_House_Data.csv')\n",
    "df1.head()"
   ]
  },
  {
   "cell_type": "code",
   "execution_count": 21,
   "id": "4d7017c9",
   "metadata": {
    "execution": {
     "iopub.execute_input": "2021-09-20T08:46:46.114920Z",
     "iopub.status.busy": "2021-09-20T08:46:46.114053Z",
     "iopub.status.idle": "2021-09-20T08:46:46.117280Z",
     "shell.execute_reply": "2021-09-20T08:46:46.117766Z",
     "shell.execute_reply.started": "2021-09-20T08:40:05.101937Z"
    },
    "papermill": {
     "duration": 0.048959,
     "end_time": "2021-09-20T08:46:46.117939",
     "exception": false,
     "start_time": "2021-09-20T08:46:46.068980",
     "status": "completed"
    },
    "tags": []
   },
   "outputs": [
    {
     "data": {
      "text/plain": [
       "(13320, 9)"
      ]
     },
     "execution_count": 21,
     "metadata": {},
     "output_type": "execute_result"
    }
   ],
   "source": [
    "df1.shape"
   ]
  },
  {
   "cell_type": "code",
   "execution_count": 22,
   "id": "19a51725",
   "metadata": {
    "execution": {
     "iopub.execute_input": "2021-09-20T08:46:46.214018Z",
     "iopub.status.busy": "2021-09-20T08:46:46.213294Z",
     "iopub.status.idle": "2021-09-20T08:46:46.234928Z",
     "shell.execute_reply": "2021-09-20T08:46:46.235617Z"
    },
    "papermill": {
     "duration": 0.077574,
     "end_time": "2021-09-20T08:46:46.235846",
     "exception": false,
     "start_time": "2021-09-20T08:46:46.158272",
     "status": "completed"
    },
    "tags": []
   },
   "outputs": [
    {
     "name": "stdout",
     "output_type": "stream",
     "text": [
      "<class 'pandas.core.frame.DataFrame'>\n",
      "RangeIndex: 13320 entries, 0 to 13319\n",
      "Data columns (total 9 columns):\n",
      " #   Column        Non-Null Count  Dtype  \n",
      "---  ------        --------------  -----  \n",
      " 0   area_type     13320 non-null  object \n",
      " 1   availability  13320 non-null  object \n",
      " 2   location      13319 non-null  object \n",
      " 3   size          13304 non-null  object \n",
      " 4   society       7818 non-null   object \n",
      " 5   total_sqft    13320 non-null  object \n",
      " 6   bath          13247 non-null  float64\n",
      " 7   balcony       12711 non-null  float64\n",
      " 8   price         13320 non-null  float64\n",
      "dtypes: float64(3), object(6)\n",
      "memory usage: 936.7+ KB\n"
     ]
    }
   ],
   "source": [
    "df1.info()"
   ]
  },
  {
   "cell_type": "code",
   "execution_count": 23,
   "id": "ceabb247",
   "metadata": {
    "execution": {
     "iopub.execute_input": "2021-09-20T08:46:46.420581Z",
     "iopub.status.busy": "2021-09-20T08:46:46.419723Z",
     "iopub.status.idle": "2021-09-20T08:46:46.437419Z",
     "shell.execute_reply": "2021-09-20T08:46:46.436756Z",
     "shell.execute_reply.started": "2021-09-20T08:40:48.652532Z"
    },
    "papermill": {
     "duration": 0.064778,
     "end_time": "2021-09-20T08:46:46.437570",
     "exception": false,
     "start_time": "2021-09-20T08:46:46.372792",
     "status": "completed"
    },
    "tags": []
   },
   "outputs": [
    {
     "data": {
      "text/html": [
       "<div>\n",
       "<style scoped>\n",
       "    .dataframe tbody tr th:only-of-type {\n",
       "        vertical-align: middle;\n",
       "    }\n",
       "\n",
       "    .dataframe tbody tr th {\n",
       "        vertical-align: top;\n",
       "    }\n",
       "\n",
       "    .dataframe thead th {\n",
       "        text-align: right;\n",
       "    }\n",
       "</style>\n",
       "<table border=\"1\" class=\"dataframe\">\n",
       "  <thead>\n",
       "    <tr style=\"text-align: right;\">\n",
       "      <th></th>\n",
       "      <th>location</th>\n",
       "      <th>size</th>\n",
       "      <th>total_sqft</th>\n",
       "      <th>bath</th>\n",
       "      <th>price</th>\n",
       "    </tr>\n",
       "  </thead>\n",
       "  <tbody>\n",
       "    <tr>\n",
       "      <th>0</th>\n",
       "      <td>Electronic City Phase II</td>\n",
       "      <td>2 BHK</td>\n",
       "      <td>1056</td>\n",
       "      <td>2.0</td>\n",
       "      <td>39.07</td>\n",
       "    </tr>\n",
       "    <tr>\n",
       "      <th>1</th>\n",
       "      <td>Chikka Tirupathi</td>\n",
       "      <td>4 Bedroom</td>\n",
       "      <td>2600</td>\n",
       "      <td>5.0</td>\n",
       "      <td>120.00</td>\n",
       "    </tr>\n",
       "    <tr>\n",
       "      <th>2</th>\n",
       "      <td>Uttarahalli</td>\n",
       "      <td>3 BHK</td>\n",
       "      <td>1440</td>\n",
       "      <td>2.0</td>\n",
       "      <td>62.00</td>\n",
       "    </tr>\n",
       "    <tr>\n",
       "      <th>3</th>\n",
       "      <td>Lingadheeranahalli</td>\n",
       "      <td>3 BHK</td>\n",
       "      <td>1521</td>\n",
       "      <td>3.0</td>\n",
       "      <td>95.00</td>\n",
       "    </tr>\n",
       "    <tr>\n",
       "      <th>4</th>\n",
       "      <td>Kothanur</td>\n",
       "      <td>2 BHK</td>\n",
       "      <td>1200</td>\n",
       "      <td>2.0</td>\n",
       "      <td>51.00</td>\n",
       "    </tr>\n",
       "  </tbody>\n",
       "</table>\n",
       "</div>"
      ],
      "text/plain": [
       "                   location       size total_sqft  bath   price\n",
       "0  Electronic City Phase II      2 BHK       1056   2.0   39.07\n",
       "1          Chikka Tirupathi  4 Bedroom       2600   5.0  120.00\n",
       "2               Uttarahalli      3 BHK       1440   2.0   62.00\n",
       "3        Lingadheeranahalli      3 BHK       1521   3.0   95.00\n",
       "4                  Kothanur      2 BHK       1200   2.0   51.00"
      ]
     },
     "execution_count": 23,
     "metadata": {},
     "output_type": "execute_result"
    }
   ],
   "source": [
    "df2=df1.drop(['area_type','society','balcony','availability'],axis='columns')\n",
    "df2.head()"
   ]
  },
  {
   "cell_type": "code",
   "execution_count": 24,
   "id": "026571d2",
   "metadata": {
    "execution": {
     "iopub.execute_input": "2021-09-20T08:46:46.533603Z",
     "iopub.status.busy": "2021-09-20T08:46:46.532517Z",
     "iopub.status.idle": "2021-09-20T08:46:46.539651Z",
     "shell.execute_reply": "2021-09-20T08:46:46.540239Z",
     "shell.execute_reply.started": "2021-09-20T08:41:02.251609Z"
    },
    "papermill": {
     "duration": 0.059202,
     "end_time": "2021-09-20T08:46:46.540412",
     "exception": false,
     "start_time": "2021-09-20T08:46:46.481210",
     "status": "completed"
    },
    "tags": []
   },
   "outputs": [
    {
     "data": {
      "text/plain": [
       "location       1\n",
       "size          16\n",
       "total_sqft     0\n",
       "bath          73\n",
       "price          0\n",
       "dtype: int64"
      ]
     },
     "execution_count": 24,
     "metadata": {},
     "output_type": "execute_result"
    }
   ],
   "source": [
    "df2.isnull().sum()"
   ]
  },
  {
   "cell_type": "code",
   "execution_count": 25,
   "id": "0c88a5c3",
   "metadata": {
    "execution": {
     "iopub.execute_input": "2021-09-20T08:46:46.642865Z",
     "iopub.status.busy": "2021-09-20T08:46:46.641965Z",
     "iopub.status.idle": "2021-09-20T08:46:46.668916Z",
     "shell.execute_reply": "2021-09-20T08:46:46.667841Z",
     "shell.execute_reply.started": "2021-09-20T08:41:06.955304Z"
    },
    "papermill": {
     "duration": 0.08656,
     "end_time": "2021-09-20T08:46:46.669150",
     "exception": false,
     "start_time": "2021-09-20T08:46:46.582590",
     "status": "completed"
    },
    "tags": []
   },
   "outputs": [
    {
     "data": {
      "text/plain": [
       "location      0\n",
       "size          0\n",
       "total_sqft    0\n",
       "bath          0\n",
       "price         0\n",
       "dtype: int64"
      ]
     },
     "execution_count": 25,
     "metadata": {},
     "output_type": "execute_result"
    }
   ],
   "source": [
    "df3=df2.dropna()\n",
    "df3.isnull().sum()\n"
   ]
  },
  {
   "cell_type": "code",
   "execution_count": 26,
   "id": "a13e1a6e",
   "metadata": {
    "execution": {
     "iopub.execute_input": "2021-09-20T08:46:46.773900Z",
     "iopub.status.busy": "2021-09-20T08:46:46.773257Z",
     "iopub.status.idle": "2021-09-20T08:46:46.779823Z",
     "shell.execute_reply": "2021-09-20T08:46:46.780483Z",
     "shell.execute_reply.started": "2021-09-20T08:41:11.808731Z"
    },
    "papermill": {
     "duration": 0.053928,
     "end_time": "2021-09-20T08:46:46.780677",
     "exception": false,
     "start_time": "2021-09-20T08:46:46.726749",
     "status": "completed"
    },
    "tags": []
   },
   "outputs": [
    {
     "data": {
      "text/plain": [
       "array(['2 BHK', '4 Bedroom', '3 BHK', '4 BHK', '6 Bedroom', '3 Bedroom',\n",
       "       '1 BHK', '1 RK', '1 Bedroom', '8 Bedroom', '2 Bedroom',\n",
       "       '7 Bedroom', '5 BHK', '7 BHK', '6 BHK', '5 Bedroom', '11 BHK',\n",
       "       '9 BHK', '9 Bedroom', '27 BHK', '10 Bedroom', '11 Bedroom',\n",
       "       '10 BHK', '19 BHK', '16 BHK', '43 Bedroom', '14 BHK', '8 BHK',\n",
       "       '12 Bedroom', '13 BHK', '18 Bedroom'], dtype=object)"
      ]
     },
     "execution_count": 26,
     "metadata": {},
     "output_type": "execute_result"
    }
   ],
   "source": [
    "df3['size'].unique()"
   ]
  },
  {
   "cell_type": "code",
   "execution_count": 27,
   "id": "2aba7de3",
   "metadata": {
    "execution": {
     "iopub.execute_input": "2021-09-20T08:46:46.869634Z",
     "iopub.status.busy": "2021-09-20T08:46:46.868968Z",
     "iopub.status.idle": "2021-09-20T08:46:46.887273Z",
     "shell.execute_reply": "2021-09-20T08:46:46.888133Z",
     "shell.execute_reply.started": "2021-09-20T08:41:16.315712Z"
    },
    "papermill": {
     "duration": 0.064427,
     "end_time": "2021-09-20T08:46:46.888379",
     "exception": false,
     "start_time": "2021-09-20T08:46:46.823952",
     "status": "completed"
    },
    "tags": []
   },
   "outputs": [
    {
     "name": "stderr",
     "output_type": "stream",
     "text": [
      "C:\\Users\\unkno\\AppData\\Local\\Temp\\ipykernel_5460\\2989175054.py:1: SettingWithCopyWarning: \n",
      "A value is trying to be set on a copy of a slice from a DataFrame.\n",
      "Try using .loc[row_indexer,col_indexer] = value instead\n",
      "\n",
      "See the caveats in the documentation: https://pandas.pydata.org/pandas-docs/stable/user_guide/indexing.html#returning-a-view-versus-a-copy\n",
      "  df3['bhk']=df3['size'].apply(lambda x: int(x.split(' ')[0]))\n"
     ]
    }
   ],
   "source": [
    "df3['bhk']=df3['size'].apply(lambda x: int(x.split(' ')[0]))"
   ]
  },
  {
   "cell_type": "code",
   "execution_count": 28,
   "id": "8622342d",
   "metadata": {
    "execution": {
     "iopub.execute_input": "2021-09-20T08:46:46.977374Z",
     "iopub.status.busy": "2021-09-20T08:46:46.976454Z",
     "iopub.status.idle": "2021-09-20T08:46:46.988813Z",
     "shell.execute_reply": "2021-09-20T08:46:46.988147Z",
     "shell.execute_reply.started": "2021-09-20T08:41:28.515902Z"
    },
    "papermill": {
     "duration": 0.057118,
     "end_time": "2021-09-20T08:46:46.988952",
     "exception": false,
     "start_time": "2021-09-20T08:46:46.931834",
     "status": "completed"
    },
    "tags": []
   },
   "outputs": [
    {
     "data": {
      "text/html": [
       "<div>\n",
       "<style scoped>\n",
       "    .dataframe tbody tr th:only-of-type {\n",
       "        vertical-align: middle;\n",
       "    }\n",
       "\n",
       "    .dataframe tbody tr th {\n",
       "        vertical-align: top;\n",
       "    }\n",
       "\n",
       "    .dataframe thead th {\n",
       "        text-align: right;\n",
       "    }\n",
       "</style>\n",
       "<table border=\"1\" class=\"dataframe\">\n",
       "  <thead>\n",
       "    <tr style=\"text-align: right;\">\n",
       "      <th></th>\n",
       "      <th>location</th>\n",
       "      <th>size</th>\n",
       "      <th>total_sqft</th>\n",
       "      <th>bath</th>\n",
       "      <th>price</th>\n",
       "      <th>bhk</th>\n",
       "    </tr>\n",
       "  </thead>\n",
       "  <tbody>\n",
       "    <tr>\n",
       "      <th>0</th>\n",
       "      <td>Electronic City Phase II</td>\n",
       "      <td>2 BHK</td>\n",
       "      <td>1056</td>\n",
       "      <td>2.0</td>\n",
       "      <td>39.07</td>\n",
       "      <td>2</td>\n",
       "    </tr>\n",
       "    <tr>\n",
       "      <th>1</th>\n",
       "      <td>Chikka Tirupathi</td>\n",
       "      <td>4 Bedroom</td>\n",
       "      <td>2600</td>\n",
       "      <td>5.0</td>\n",
       "      <td>120.00</td>\n",
       "      <td>4</td>\n",
       "    </tr>\n",
       "    <tr>\n",
       "      <th>2</th>\n",
       "      <td>Uttarahalli</td>\n",
       "      <td>3 BHK</td>\n",
       "      <td>1440</td>\n",
       "      <td>2.0</td>\n",
       "      <td>62.00</td>\n",
       "      <td>3</td>\n",
       "    </tr>\n",
       "    <tr>\n",
       "      <th>3</th>\n",
       "      <td>Lingadheeranahalli</td>\n",
       "      <td>3 BHK</td>\n",
       "      <td>1521</td>\n",
       "      <td>3.0</td>\n",
       "      <td>95.00</td>\n",
       "      <td>3</td>\n",
       "    </tr>\n",
       "    <tr>\n",
       "      <th>4</th>\n",
       "      <td>Kothanur</td>\n",
       "      <td>2 BHK</td>\n",
       "      <td>1200</td>\n",
       "      <td>2.0</td>\n",
       "      <td>51.00</td>\n",
       "      <td>2</td>\n",
       "    </tr>\n",
       "  </tbody>\n",
       "</table>\n",
       "</div>"
      ],
      "text/plain": [
       "                   location       size total_sqft  bath   price  bhk\n",
       "0  Electronic City Phase II      2 BHK       1056   2.0   39.07    2\n",
       "1          Chikka Tirupathi  4 Bedroom       2600   5.0  120.00    4\n",
       "2               Uttarahalli      3 BHK       1440   2.0   62.00    3\n",
       "3        Lingadheeranahalli      3 BHK       1521   3.0   95.00    3\n",
       "4                  Kothanur      2 BHK       1200   2.0   51.00    2"
      ]
     },
     "execution_count": 28,
     "metadata": {},
     "output_type": "execute_result"
    }
   ],
   "source": [
    "df3.head()"
   ]
  },
  {
   "cell_type": "code",
   "execution_count": 29,
   "id": "2a9cd9f2",
   "metadata": {
    "execution": {
     "iopub.execute_input": "2021-09-20T08:46:47.079639Z",
     "iopub.status.busy": "2021-09-20T08:46:47.079001Z",
     "iopub.status.idle": "2021-09-20T08:46:47.090499Z",
     "shell.execute_reply": "2021-09-20T08:46:47.091009Z",
     "shell.execute_reply.started": "2021-09-20T08:41:33.248948Z"
    },
    "papermill": {
     "duration": 0.057842,
     "end_time": "2021-09-20T08:46:47.091191",
     "exception": false,
     "start_time": "2021-09-20T08:46:47.033349",
     "status": "completed"
    },
    "tags": []
   },
   "outputs": [
    {
     "data": {
      "text/html": [
       "<div>\n",
       "<style scoped>\n",
       "    .dataframe tbody tr th:only-of-type {\n",
       "        vertical-align: middle;\n",
       "    }\n",
       "\n",
       "    .dataframe tbody tr th {\n",
       "        vertical-align: top;\n",
       "    }\n",
       "\n",
       "    .dataframe thead th {\n",
       "        text-align: right;\n",
       "    }\n",
       "</style>\n",
       "<table border=\"1\" class=\"dataframe\">\n",
       "  <thead>\n",
       "    <tr style=\"text-align: right;\">\n",
       "      <th></th>\n",
       "      <th>location</th>\n",
       "      <th>size</th>\n",
       "      <th>total_sqft</th>\n",
       "      <th>bath</th>\n",
       "      <th>price</th>\n",
       "      <th>bhk</th>\n",
       "    </tr>\n",
       "  </thead>\n",
       "  <tbody>\n",
       "    <tr>\n",
       "      <th>1718</th>\n",
       "      <td>2Electronic City Phase II</td>\n",
       "      <td>27 BHK</td>\n",
       "      <td>8000</td>\n",
       "      <td>27.0</td>\n",
       "      <td>230.0</td>\n",
       "      <td>27</td>\n",
       "    </tr>\n",
       "    <tr>\n",
       "      <th>4684</th>\n",
       "      <td>Munnekollal</td>\n",
       "      <td>43 Bedroom</td>\n",
       "      <td>2400</td>\n",
       "      <td>40.0</td>\n",
       "      <td>660.0</td>\n",
       "      <td>43</td>\n",
       "    </tr>\n",
       "  </tbody>\n",
       "</table>\n",
       "</div>"
      ],
      "text/plain": [
       "                       location        size total_sqft  bath  price  bhk\n",
       "1718  2Electronic City Phase II      27 BHK       8000  27.0  230.0   27\n",
       "4684                Munnekollal  43 Bedroom       2400  40.0  660.0   43"
      ]
     },
     "execution_count": 29,
     "metadata": {},
     "output_type": "execute_result"
    }
   ],
   "source": [
    "df3[df3.bhk>20]"
   ]
  },
  {
   "cell_type": "code",
   "execution_count": 30,
   "id": "bff17ce8",
   "metadata": {
    "execution": {
     "iopub.execute_input": "2021-09-20T08:46:47.182518Z",
     "iopub.status.busy": "2021-09-20T08:46:47.181835Z",
     "iopub.status.idle": "2021-09-20T08:46:47.188502Z",
     "shell.execute_reply": "2021-09-20T08:46:47.189049Z",
     "shell.execute_reply.started": "2021-09-20T08:41:37.307857Z"
    },
    "papermill": {
     "duration": 0.053428,
     "end_time": "2021-09-20T08:46:47.189240",
     "exception": false,
     "start_time": "2021-09-20T08:46:47.135812",
     "status": "completed"
    },
    "tags": []
   },
   "outputs": [
    {
     "data": {
      "text/plain": [
       "array(['1056', '2600', '1440', ..., '1133 - 1384', '774', '4689'],\n",
       "      dtype=object)"
      ]
     },
     "execution_count": 30,
     "metadata": {},
     "output_type": "execute_result"
    }
   ],
   "source": [
    "df3.total_sqft.unique()"
   ]
  },
  {
   "cell_type": "code",
   "execution_count": 31,
   "id": "91296dd7",
   "metadata": {
    "execution": {
     "iopub.execute_input": "2021-09-20T08:46:47.280699Z",
     "iopub.status.busy": "2021-09-20T08:46:47.280036Z",
     "iopub.status.idle": "2021-09-20T08:46:47.284806Z",
     "shell.execute_reply": "2021-09-20T08:46:47.284205Z",
     "shell.execute_reply.started": "2021-09-20T08:41:49.840899Z"
    },
    "papermill": {
     "duration": 0.051166,
     "end_time": "2021-09-20T08:46:47.284946",
     "exception": false,
     "start_time": "2021-09-20T08:46:47.233780",
     "status": "completed"
    },
    "tags": []
   },
   "outputs": [],
   "source": [
    "def is_float(x):\n",
    "    try:\n",
    "        float(x)\n",
    "    except:\n",
    "        return False\n",
    "    return True"
   ]
  },
  {
   "cell_type": "code",
   "execution_count": 32,
   "id": "985062e3",
   "metadata": {
    "execution": {
     "iopub.execute_input": "2021-09-20T08:46:47.376302Z",
     "iopub.status.busy": "2021-09-20T08:46:47.375661Z",
     "iopub.status.idle": "2021-09-20T08:46:47.397412Z",
     "shell.execute_reply": "2021-09-20T08:46:47.397964Z",
     "shell.execute_reply.started": "2021-09-20T08:41:55.114144Z"
    },
    "papermill": {
     "duration": 0.068864,
     "end_time": "2021-09-20T08:46:47.398136",
     "exception": false,
     "start_time": "2021-09-20T08:46:47.329272",
     "status": "completed"
    },
    "tags": []
   },
   "outputs": [
    {
     "data": {
      "text/html": [
       "<div>\n",
       "<style scoped>\n",
       "    .dataframe tbody tr th:only-of-type {\n",
       "        vertical-align: middle;\n",
       "    }\n",
       "\n",
       "    .dataframe tbody tr th {\n",
       "        vertical-align: top;\n",
       "    }\n",
       "\n",
       "    .dataframe thead th {\n",
       "        text-align: right;\n",
       "    }\n",
       "</style>\n",
       "<table border=\"1\" class=\"dataframe\">\n",
       "  <thead>\n",
       "    <tr style=\"text-align: right;\">\n",
       "      <th></th>\n",
       "      <th>location</th>\n",
       "      <th>size</th>\n",
       "      <th>total_sqft</th>\n",
       "      <th>bath</th>\n",
       "      <th>price</th>\n",
       "      <th>bhk</th>\n",
       "    </tr>\n",
       "  </thead>\n",
       "  <tbody>\n",
       "    <tr>\n",
       "      <th>30</th>\n",
       "      <td>Yelahanka</td>\n",
       "      <td>4 BHK</td>\n",
       "      <td>2100 - 2850</td>\n",
       "      <td>4.0</td>\n",
       "      <td>186.000</td>\n",
       "      <td>4</td>\n",
       "    </tr>\n",
       "    <tr>\n",
       "      <th>122</th>\n",
       "      <td>Hebbal</td>\n",
       "      <td>4 BHK</td>\n",
       "      <td>3067 - 8156</td>\n",
       "      <td>4.0</td>\n",
       "      <td>477.000</td>\n",
       "      <td>4</td>\n",
       "    </tr>\n",
       "    <tr>\n",
       "      <th>137</th>\n",
       "      <td>8th Phase JP Nagar</td>\n",
       "      <td>2 BHK</td>\n",
       "      <td>1042 - 1105</td>\n",
       "      <td>2.0</td>\n",
       "      <td>54.005</td>\n",
       "      <td>2</td>\n",
       "    </tr>\n",
       "    <tr>\n",
       "      <th>165</th>\n",
       "      <td>Sarjapur</td>\n",
       "      <td>2 BHK</td>\n",
       "      <td>1145 - 1340</td>\n",
       "      <td>2.0</td>\n",
       "      <td>43.490</td>\n",
       "      <td>2</td>\n",
       "    </tr>\n",
       "    <tr>\n",
       "      <th>188</th>\n",
       "      <td>KR Puram</td>\n",
       "      <td>2 BHK</td>\n",
       "      <td>1015 - 1540</td>\n",
       "      <td>2.0</td>\n",
       "      <td>56.800</td>\n",
       "      <td>2</td>\n",
       "    </tr>\n",
       "    <tr>\n",
       "      <th>410</th>\n",
       "      <td>Kengeri</td>\n",
       "      <td>1 BHK</td>\n",
       "      <td>34.46Sq. Meter</td>\n",
       "      <td>1.0</td>\n",
       "      <td>18.500</td>\n",
       "      <td>1</td>\n",
       "    </tr>\n",
       "    <tr>\n",
       "      <th>549</th>\n",
       "      <td>Hennur Road</td>\n",
       "      <td>2 BHK</td>\n",
       "      <td>1195 - 1440</td>\n",
       "      <td>2.0</td>\n",
       "      <td>63.770</td>\n",
       "      <td>2</td>\n",
       "    </tr>\n",
       "    <tr>\n",
       "      <th>648</th>\n",
       "      <td>Arekere</td>\n",
       "      <td>9 Bedroom</td>\n",
       "      <td>4125Perch</td>\n",
       "      <td>9.0</td>\n",
       "      <td>265.000</td>\n",
       "      <td>9</td>\n",
       "    </tr>\n",
       "    <tr>\n",
       "      <th>661</th>\n",
       "      <td>Yelahanka</td>\n",
       "      <td>2 BHK</td>\n",
       "      <td>1120 - 1145</td>\n",
       "      <td>2.0</td>\n",
       "      <td>48.130</td>\n",
       "      <td>2</td>\n",
       "    </tr>\n",
       "    <tr>\n",
       "      <th>672</th>\n",
       "      <td>Bettahalsoor</td>\n",
       "      <td>4 Bedroom</td>\n",
       "      <td>3090 - 5002</td>\n",
       "      <td>4.0</td>\n",
       "      <td>445.000</td>\n",
       "      <td>4</td>\n",
       "    </tr>\n",
       "    <tr>\n",
       "      <th>772</th>\n",
       "      <td>Banashankari Stage VI</td>\n",
       "      <td>2 BHK</td>\n",
       "      <td>1160 - 1195</td>\n",
       "      <td>2.0</td>\n",
       "      <td>59.935</td>\n",
       "      <td>2</td>\n",
       "    </tr>\n",
       "    <tr>\n",
       "      <th>775</th>\n",
       "      <td>Basavanagara</td>\n",
       "      <td>1 BHK</td>\n",
       "      <td>1000Sq. Meter</td>\n",
       "      <td>2.0</td>\n",
       "      <td>93.000</td>\n",
       "      <td>1</td>\n",
       "    </tr>\n",
       "    <tr>\n",
       "      <th>850</th>\n",
       "      <td>Bannerghatta Road</td>\n",
       "      <td>2 BHK</td>\n",
       "      <td>1115 - 1130</td>\n",
       "      <td>2.0</td>\n",
       "      <td>58.935</td>\n",
       "      <td>2</td>\n",
       "    </tr>\n",
       "    <tr>\n",
       "      <th>872</th>\n",
       "      <td>Singapura Village</td>\n",
       "      <td>2 BHK</td>\n",
       "      <td>1100Sq. Yards</td>\n",
       "      <td>2.0</td>\n",
       "      <td>45.000</td>\n",
       "      <td>2</td>\n",
       "    </tr>\n",
       "    <tr>\n",
       "      <th>886</th>\n",
       "      <td>Chandapura</td>\n",
       "      <td>1 BHK</td>\n",
       "      <td>520 - 645</td>\n",
       "      <td>1.0</td>\n",
       "      <td>15.135</td>\n",
       "      <td>1</td>\n",
       "    </tr>\n",
       "  </tbody>\n",
       "</table>\n",
       "</div>"
      ],
      "text/plain": [
       "                  location       size      total_sqft  bath    price  bhk\n",
       "30               Yelahanka      4 BHK     2100 - 2850   4.0  186.000    4\n",
       "122                 Hebbal      4 BHK     3067 - 8156   4.0  477.000    4\n",
       "137     8th Phase JP Nagar      2 BHK     1042 - 1105   2.0   54.005    2\n",
       "165               Sarjapur      2 BHK     1145 - 1340   2.0   43.490    2\n",
       "188               KR Puram      2 BHK     1015 - 1540   2.0   56.800    2\n",
       "410                Kengeri      1 BHK  34.46Sq. Meter   1.0   18.500    1\n",
       "549            Hennur Road      2 BHK     1195 - 1440   2.0   63.770    2\n",
       "648                Arekere  9 Bedroom       4125Perch   9.0  265.000    9\n",
       "661              Yelahanka      2 BHK     1120 - 1145   2.0   48.130    2\n",
       "672           Bettahalsoor  4 Bedroom     3090 - 5002   4.0  445.000    4\n",
       "772  Banashankari Stage VI      2 BHK     1160 - 1195   2.0   59.935    2\n",
       "775           Basavanagara      1 BHK   1000Sq. Meter   2.0   93.000    1\n",
       "850      Bannerghatta Road      2 BHK     1115 - 1130   2.0   58.935    2\n",
       "872      Singapura Village      2 BHK   1100Sq. Yards   2.0   45.000    2\n",
       "886             Chandapura      1 BHK       520 - 645   1.0   15.135    1"
      ]
     },
     "execution_count": 32,
     "metadata": {},
     "output_type": "execute_result"
    }
   ],
   "source": [
    "df3[~df3['total_sqft'].apply(is_float)].head(15)"
   ]
  },
  {
   "cell_type": "code",
   "execution_count": 33,
   "id": "97b9db2a",
   "metadata": {
    "execution": {
     "iopub.execute_input": "2021-09-20T08:46:47.490401Z",
     "iopub.status.busy": "2021-09-20T08:46:47.489723Z",
     "iopub.status.idle": "2021-09-20T08:46:47.494327Z",
     "shell.execute_reply": "2021-09-20T08:46:47.494838Z",
     "shell.execute_reply.started": "2021-09-20T08:42:01.331288Z"
    },
    "papermill": {
     "duration": 0.051867,
     "end_time": "2021-09-20T08:46:47.495009",
     "exception": false,
     "start_time": "2021-09-20T08:46:47.443142",
     "status": "completed"
    },
    "tags": []
   },
   "outputs": [],
   "source": [
    "def convert_sqft_to_num(x):\n",
    "    tokens=x.split('-')\n",
    "    if len(tokens)==2:\n",
    "        return (float(tokens[0])+float(tokens[1]))/2\n",
    "    try:\n",
    "        return float(x)\n",
    "    except:\n",
    "        return None"
   ]
  },
  {
   "cell_type": "code",
   "execution_count": 34,
   "id": "fccf1de6",
   "metadata": {
    "execution": {
     "iopub.execute_input": "2021-09-20T08:46:47.587517Z",
     "iopub.status.busy": "2021-09-20T08:46:47.586876Z",
     "iopub.status.idle": "2021-09-20T08:46:47.590460Z",
     "shell.execute_reply": "2021-09-20T08:46:47.590952Z",
     "shell.execute_reply.started": "2021-09-20T08:42:06.621229Z"
    },
    "papermill": {
     "duration": 0.05063,
     "end_time": "2021-09-20T08:46:47.591137",
     "exception": false,
     "start_time": "2021-09-20T08:46:47.540507",
     "status": "completed"
    },
    "tags": []
   },
   "outputs": [],
   "source": [
    "convert_sqft_to_num('1000Sq. Meter')"
   ]
  },
  {
   "cell_type": "code",
   "execution_count": 35,
   "id": "ff7aec31",
   "metadata": {
    "execution": {
     "iopub.execute_input": "2021-09-20T08:46:47.685075Z",
     "iopub.status.busy": "2021-09-20T08:46:47.684397Z",
     "iopub.status.idle": "2021-09-20T08:46:47.710254Z",
     "shell.execute_reply": "2021-09-20T08:46:47.710864Z",
     "shell.execute_reply.started": "2021-09-20T08:42:10.931876Z"
    },
    "papermill": {
     "duration": 0.074889,
     "end_time": "2021-09-20T08:46:47.711033",
     "exception": false,
     "start_time": "2021-09-20T08:46:47.636144",
     "status": "completed"
    },
    "tags": []
   },
   "outputs": [
    {
     "data": {
      "text/html": [
       "<div>\n",
       "<style scoped>\n",
       "    .dataframe tbody tr th:only-of-type {\n",
       "        vertical-align: middle;\n",
       "    }\n",
       "\n",
       "    .dataframe tbody tr th {\n",
       "        vertical-align: top;\n",
       "    }\n",
       "\n",
       "    .dataframe thead th {\n",
       "        text-align: right;\n",
       "    }\n",
       "</style>\n",
       "<table border=\"1\" class=\"dataframe\">\n",
       "  <thead>\n",
       "    <tr style=\"text-align: right;\">\n",
       "      <th></th>\n",
       "      <th>location</th>\n",
       "      <th>size</th>\n",
       "      <th>total_sqft</th>\n",
       "      <th>bath</th>\n",
       "      <th>price</th>\n",
       "      <th>bhk</th>\n",
       "    </tr>\n",
       "  </thead>\n",
       "  <tbody>\n",
       "    <tr>\n",
       "      <th>0</th>\n",
       "      <td>Electronic City Phase II</td>\n",
       "      <td>2 BHK</td>\n",
       "      <td>1056.0</td>\n",
       "      <td>2.0</td>\n",
       "      <td>39.07</td>\n",
       "      <td>2</td>\n",
       "    </tr>\n",
       "    <tr>\n",
       "      <th>1</th>\n",
       "      <td>Chikka Tirupathi</td>\n",
       "      <td>4 Bedroom</td>\n",
       "      <td>2600.0</td>\n",
       "      <td>5.0</td>\n",
       "      <td>120.00</td>\n",
       "      <td>4</td>\n",
       "    </tr>\n",
       "    <tr>\n",
       "      <th>2</th>\n",
       "      <td>Uttarahalli</td>\n",
       "      <td>3 BHK</td>\n",
       "      <td>1440.0</td>\n",
       "      <td>2.0</td>\n",
       "      <td>62.00</td>\n",
       "      <td>3</td>\n",
       "    </tr>\n",
       "    <tr>\n",
       "      <th>3</th>\n",
       "      <td>Lingadheeranahalli</td>\n",
       "      <td>3 BHK</td>\n",
       "      <td>1521.0</td>\n",
       "      <td>3.0</td>\n",
       "      <td>95.00</td>\n",
       "      <td>3</td>\n",
       "    </tr>\n",
       "    <tr>\n",
       "      <th>4</th>\n",
       "      <td>Kothanur</td>\n",
       "      <td>2 BHK</td>\n",
       "      <td>1200.0</td>\n",
       "      <td>2.0</td>\n",
       "      <td>51.00</td>\n",
       "      <td>2</td>\n",
       "    </tr>\n",
       "  </tbody>\n",
       "</table>\n",
       "</div>"
      ],
      "text/plain": [
       "                   location       size  total_sqft  bath   price  bhk\n",
       "0  Electronic City Phase II      2 BHK      1056.0   2.0   39.07    2\n",
       "1          Chikka Tirupathi  4 Bedroom      2600.0   5.0  120.00    4\n",
       "2               Uttarahalli      3 BHK      1440.0   2.0   62.00    3\n",
       "3        Lingadheeranahalli      3 BHK      1521.0   3.0   95.00    3\n",
       "4                  Kothanur      2 BHK      1200.0   2.0   51.00    2"
      ]
     },
     "execution_count": 35,
     "metadata": {},
     "output_type": "execute_result"
    }
   ],
   "source": [
    "df4=df3.copy()\n",
    "df4['total_sqft']=df4['total_sqft'].apply(convert_sqft_to_num)\n",
    "df4.head()"
   ]
  },
  {
   "cell_type": "code",
   "execution_count": 36,
   "id": "a790fd6d",
   "metadata": {
    "execution": {
     "iopub.execute_input": "2021-09-20T08:46:47.809819Z",
     "iopub.status.busy": "2021-09-20T08:46:47.808705Z",
     "iopub.status.idle": "2021-09-20T08:46:47.826199Z",
     "shell.execute_reply": "2021-09-20T08:46:47.826726Z",
     "shell.execute_reply.started": "2021-09-20T08:42:15.262627Z"
    },
    "papermill": {
     "duration": 0.067393,
     "end_time": "2021-09-20T08:46:47.826897",
     "exception": false,
     "start_time": "2021-09-20T08:46:47.759504",
     "status": "completed"
    },
    "tags": []
   },
   "outputs": [
    {
     "data": {
      "text/html": [
       "<div>\n",
       "<style scoped>\n",
       "    .dataframe tbody tr th:only-of-type {\n",
       "        vertical-align: middle;\n",
       "    }\n",
       "\n",
       "    .dataframe tbody tr th {\n",
       "        vertical-align: top;\n",
       "    }\n",
       "\n",
       "    .dataframe thead th {\n",
       "        text-align: right;\n",
       "    }\n",
       "</style>\n",
       "<table border=\"1\" class=\"dataframe\">\n",
       "  <thead>\n",
       "    <tr style=\"text-align: right;\">\n",
       "      <th></th>\n",
       "      <th>location</th>\n",
       "      <th>size</th>\n",
       "      <th>total_sqft</th>\n",
       "      <th>bath</th>\n",
       "      <th>price</th>\n",
       "      <th>bhk</th>\n",
       "      <th>price_per_sqft</th>\n",
       "    </tr>\n",
       "  </thead>\n",
       "  <tbody>\n",
       "    <tr>\n",
       "      <th>0</th>\n",
       "      <td>Electronic City Phase II</td>\n",
       "      <td>2 BHK</td>\n",
       "      <td>1056.0</td>\n",
       "      <td>2.0</td>\n",
       "      <td>39.07</td>\n",
       "      <td>2</td>\n",
       "      <td>3699.810606</td>\n",
       "    </tr>\n",
       "    <tr>\n",
       "      <th>1</th>\n",
       "      <td>Chikka Tirupathi</td>\n",
       "      <td>4 Bedroom</td>\n",
       "      <td>2600.0</td>\n",
       "      <td>5.0</td>\n",
       "      <td>120.00</td>\n",
       "      <td>4</td>\n",
       "      <td>4615.384615</td>\n",
       "    </tr>\n",
       "    <tr>\n",
       "      <th>2</th>\n",
       "      <td>Uttarahalli</td>\n",
       "      <td>3 BHK</td>\n",
       "      <td>1440.0</td>\n",
       "      <td>2.0</td>\n",
       "      <td>62.00</td>\n",
       "      <td>3</td>\n",
       "      <td>4305.555556</td>\n",
       "    </tr>\n",
       "    <tr>\n",
       "      <th>3</th>\n",
       "      <td>Lingadheeranahalli</td>\n",
       "      <td>3 BHK</td>\n",
       "      <td>1521.0</td>\n",
       "      <td>3.0</td>\n",
       "      <td>95.00</td>\n",
       "      <td>3</td>\n",
       "      <td>6245.890861</td>\n",
       "    </tr>\n",
       "    <tr>\n",
       "      <th>4</th>\n",
       "      <td>Kothanur</td>\n",
       "      <td>2 BHK</td>\n",
       "      <td>1200.0</td>\n",
       "      <td>2.0</td>\n",
       "      <td>51.00</td>\n",
       "      <td>2</td>\n",
       "      <td>4250.000000</td>\n",
       "    </tr>\n",
       "  </tbody>\n",
       "</table>\n",
       "</div>"
      ],
      "text/plain": [
       "                   location       size  total_sqft  bath   price  bhk  \\\n",
       "0  Electronic City Phase II      2 BHK      1056.0   2.0   39.07    2   \n",
       "1          Chikka Tirupathi  4 Bedroom      2600.0   5.0  120.00    4   \n",
       "2               Uttarahalli      3 BHK      1440.0   2.0   62.00    3   \n",
       "3        Lingadheeranahalli      3 BHK      1521.0   3.0   95.00    3   \n",
       "4                  Kothanur      2 BHK      1200.0   2.0   51.00    2   \n",
       "\n",
       "   price_per_sqft  \n",
       "0     3699.810606  \n",
       "1     4615.384615  \n",
       "2     4305.555556  \n",
       "3     6245.890861  \n",
       "4     4250.000000  "
      ]
     },
     "execution_count": 36,
     "metadata": {},
     "output_type": "execute_result"
    }
   ],
   "source": [
    "df5=df4.copy()\n",
    "df5['price_per_sqft']=df5['price']*100000/df5['total_sqft']\n",
    "df5.head()"
   ]
  },
  {
   "cell_type": "code",
   "execution_count": 37,
   "id": "4a97cb8b",
   "metadata": {
    "execution": {
     "iopub.execute_input": "2021-09-20T08:46:47.922461Z",
     "iopub.status.busy": "2021-09-20T08:46:47.921370Z",
     "iopub.status.idle": "2021-09-20T08:46:47.942576Z",
     "shell.execute_reply": "2021-09-20T08:46:47.942004Z",
     "shell.execute_reply.started": "2021-09-20T08:42:20.262232Z"
    },
    "papermill": {
     "duration": 0.069917,
     "end_time": "2021-09-20T08:46:47.942732",
     "exception": false,
     "start_time": "2021-09-20T08:46:47.872815",
     "status": "completed"
    },
    "tags": []
   },
   "outputs": [
    {
     "name": "stderr",
     "output_type": "stream",
     "text": [
      "C:\\Users\\unkno\\AppData\\Local\\Temp\\ipykernel_5460\\2962998023.py:1: UserWarning: Pandas doesn't allow columns to be created via a new attribute name - see https://pandas.pydata.org/pandas-docs/stable/indexing.html#attribute-access\n",
      "  df5.loaction=df5.location.apply(lambda x : x.strip())\n"
     ]
    },
    {
     "data": {
      "text/plain": [
       "location\n",
       "Whitefield             534\n",
       "Sarjapur  Road         392\n",
       "Electronic City        302\n",
       "Kanakpura Road         266\n",
       "Thanisandra            233\n",
       "                      ... \n",
       " Banaswadi               1\n",
       "Kanakadasa Layout        1\n",
       "Kanakapur main road      1\n",
       "Kanakapura  Rod          1\n",
       "whitefiled               1\n",
       "Name: location, Length: 1304, dtype: int64"
      ]
     },
     "execution_count": 37,
     "metadata": {},
     "output_type": "execute_result"
    }
   ],
   "source": [
    "df5.loaction=df5.location.apply(lambda x : x.strip())\n",
    "loc_stats=df5.groupby('location')['location'].agg('count').sort_values(ascending=False)\n",
    "loc_stats"
   ]
  },
  {
   "cell_type": "code",
   "execution_count": 38,
   "id": "99f3b45c",
   "metadata": {
    "execution": {
     "iopub.execute_input": "2021-09-20T08:46:48.037734Z",
     "iopub.status.busy": "2021-09-20T08:46:48.037100Z",
     "iopub.status.idle": "2021-09-20T08:46:48.044887Z",
     "shell.execute_reply": "2021-09-20T08:46:48.045392Z",
     "shell.execute_reply.started": "2021-09-20T08:42:26.955883Z"
    },
    "papermill": {
     "duration": 0.056985,
     "end_time": "2021-09-20T08:46:48.045570",
     "exception": false,
     "start_time": "2021-09-20T08:46:47.988585",
     "status": "completed"
    },
    "tags": []
   },
   "outputs": [
    {
     "data": {
      "text/plain": [
       "1063"
      ]
     },
     "execution_count": 38,
     "metadata": {},
     "output_type": "execute_result"
    }
   ],
   "source": [
    "len(loc_stats[loc_stats<=10])"
   ]
  },
  {
   "cell_type": "code",
   "execution_count": 39,
   "id": "53e62977",
   "metadata": {
    "execution": {
     "iopub.execute_input": "2021-09-20T08:46:48.145269Z",
     "iopub.status.busy": "2021-09-20T08:46:48.144587Z",
     "iopub.status.idle": "2021-09-20T08:46:48.148301Z",
     "shell.execute_reply": "2021-09-20T08:46:48.148861Z",
     "shell.execute_reply.started": "2021-09-20T08:42:31.865911Z"
    },
    "papermill": {
     "duration": 0.056578,
     "end_time": "2021-09-20T08:46:48.149029",
     "exception": false,
     "start_time": "2021-09-20T08:46:48.092451",
     "status": "completed"
    },
    "tags": []
   },
   "outputs": [
    {
     "data": {
      "text/plain": [
       "1063"
      ]
     },
     "execution_count": 39,
     "metadata": {},
     "output_type": "execute_result"
    }
   ],
   "source": [
    "loc_stats_less_than_10=loc_stats[loc_stats<=10]\n",
    "len(loc_stats_less_than_10)\n"
   ]
  },
  {
   "cell_type": "code",
   "execution_count": 40,
   "id": "1c65a92b",
   "metadata": {
    "execution": {
     "iopub.execute_input": "2021-09-20T08:46:48.246548Z",
     "iopub.status.busy": "2021-09-20T08:46:48.245878Z",
     "iopub.status.idle": "2021-09-20T08:46:48.271990Z",
     "shell.execute_reply": "2021-09-20T08:46:48.272559Z",
     "shell.execute_reply.started": "2021-09-20T08:42:36.192682Z"
    },
    "papermill": {
     "duration": 0.076817,
     "end_time": "2021-09-20T08:46:48.272736",
     "exception": false,
     "start_time": "2021-09-20T08:46:48.195919",
     "status": "completed"
    },
    "tags": []
   },
   "outputs": [],
   "source": [
    "df5.location=df5.location.apply(lambda x: 'other' if x in loc_stats_less_than_10 else x)\n"
   ]
  },
  {
   "cell_type": "code",
   "execution_count": 41,
   "id": "0dccae4b",
   "metadata": {
    "execution": {
     "iopub.execute_input": "2021-09-20T08:46:48.370141Z",
     "iopub.status.busy": "2021-09-20T08:46:48.369491Z",
     "iopub.status.idle": "2021-09-20T08:46:48.376384Z",
     "shell.execute_reply": "2021-09-20T08:46:48.376870Z",
     "shell.execute_reply.started": "2021-09-20T08:42:40.394969Z"
    },
    "papermill": {
     "duration": 0.057604,
     "end_time": "2021-09-20T08:46:48.377036",
     "exception": false,
     "start_time": "2021-09-20T08:46:48.319432",
     "status": "completed"
    },
    "tags": []
   },
   "outputs": [
    {
     "data": {
      "text/plain": [
       "242"
      ]
     },
     "execution_count": 41,
     "metadata": {},
     "output_type": "execute_result"
    }
   ],
   "source": [
    "len(df5.location.unique())"
   ]
  },
  {
   "cell_type": "code",
   "execution_count": 42,
   "id": "305e109d",
   "metadata": {
    "execution": {
     "iopub.execute_input": "2021-09-20T08:46:48.474878Z",
     "iopub.status.busy": "2021-09-20T08:46:48.474203Z",
     "iopub.status.idle": "2021-09-20T08:46:48.489989Z",
     "shell.execute_reply": "2021-09-20T08:46:48.490556Z",
     "shell.execute_reply.started": "2021-09-20T08:42:47.722198Z"
    },
    "papermill": {
     "duration": 0.066202,
     "end_time": "2021-09-20T08:46:48.490730",
     "exception": false,
     "start_time": "2021-09-20T08:46:48.424528",
     "status": "completed"
    },
    "tags": []
   },
   "outputs": [
    {
     "data": {
      "text/html": [
       "<div>\n",
       "<style scoped>\n",
       "    .dataframe tbody tr th:only-of-type {\n",
       "        vertical-align: middle;\n",
       "    }\n",
       "\n",
       "    .dataframe tbody tr th {\n",
       "        vertical-align: top;\n",
       "    }\n",
       "\n",
       "    .dataframe thead th {\n",
       "        text-align: right;\n",
       "    }\n",
       "</style>\n",
       "<table border=\"1\" class=\"dataframe\">\n",
       "  <thead>\n",
       "    <tr style=\"text-align: right;\">\n",
       "      <th></th>\n",
       "      <th>location</th>\n",
       "      <th>size</th>\n",
       "      <th>total_sqft</th>\n",
       "      <th>bath</th>\n",
       "      <th>price</th>\n",
       "      <th>bhk</th>\n",
       "      <th>price_per_sqft</th>\n",
       "    </tr>\n",
       "  </thead>\n",
       "  <tbody>\n",
       "    <tr>\n",
       "      <th>9</th>\n",
       "      <td>other</td>\n",
       "      <td>6 Bedroom</td>\n",
       "      <td>1020.0</td>\n",
       "      <td>6.0</td>\n",
       "      <td>370.0</td>\n",
       "      <td>6</td>\n",
       "      <td>36274.509804</td>\n",
       "    </tr>\n",
       "    <tr>\n",
       "      <th>45</th>\n",
       "      <td>HSR Layout</td>\n",
       "      <td>8 Bedroom</td>\n",
       "      <td>600.0</td>\n",
       "      <td>9.0</td>\n",
       "      <td>200.0</td>\n",
       "      <td>8</td>\n",
       "      <td>33333.333333</td>\n",
       "    </tr>\n",
       "    <tr>\n",
       "      <th>58</th>\n",
       "      <td>Murugeshpalya</td>\n",
       "      <td>6 Bedroom</td>\n",
       "      <td>1407.0</td>\n",
       "      <td>4.0</td>\n",
       "      <td>150.0</td>\n",
       "      <td>6</td>\n",
       "      <td>10660.980810</td>\n",
       "    </tr>\n",
       "    <tr>\n",
       "      <th>68</th>\n",
       "      <td>other</td>\n",
       "      <td>8 Bedroom</td>\n",
       "      <td>1350.0</td>\n",
       "      <td>7.0</td>\n",
       "      <td>85.0</td>\n",
       "      <td>8</td>\n",
       "      <td>6296.296296</td>\n",
       "    </tr>\n",
       "    <tr>\n",
       "      <th>70</th>\n",
       "      <td>other</td>\n",
       "      <td>3 Bedroom</td>\n",
       "      <td>500.0</td>\n",
       "      <td>3.0</td>\n",
       "      <td>100.0</td>\n",
       "      <td>3</td>\n",
       "      <td>20000.000000</td>\n",
       "    </tr>\n",
       "  </tbody>\n",
       "</table>\n",
       "</div>"
      ],
      "text/plain": [
       "         location       size  total_sqft  bath  price  bhk  price_per_sqft\n",
       "9           other  6 Bedroom      1020.0   6.0  370.0    6    36274.509804\n",
       "45     HSR Layout  8 Bedroom       600.0   9.0  200.0    8    33333.333333\n",
       "58  Murugeshpalya  6 Bedroom      1407.0   4.0  150.0    6    10660.980810\n",
       "68          other  8 Bedroom      1350.0   7.0   85.0    8     6296.296296\n",
       "70          other  3 Bedroom       500.0   3.0  100.0    3    20000.000000"
      ]
     },
     "execution_count": 42,
     "metadata": {},
     "output_type": "execute_result"
    }
   ],
   "source": [
    "df5[df5.total_sqft/df5.bhk<300].head()"
   ]
  },
  {
   "cell_type": "code",
   "execution_count": 43,
   "id": "6c7aa5ea",
   "metadata": {
    "execution": {
     "iopub.execute_input": "2021-09-20T08:46:48.589546Z",
     "iopub.status.busy": "2021-09-20T08:46:48.588886Z",
     "iopub.status.idle": "2021-09-20T08:46:48.593787Z",
     "shell.execute_reply": "2021-09-20T08:46:48.594301Z",
     "shell.execute_reply.started": "2021-09-20T08:42:52.426509Z"
    },
    "papermill": {
     "duration": 0.05623,
     "end_time": "2021-09-20T08:46:48.594467",
     "exception": false,
     "start_time": "2021-09-20T08:46:48.538237",
     "status": "completed"
    },
    "tags": []
   },
   "outputs": [
    {
     "data": {
      "text/plain": [
       "(13246, 7)"
      ]
     },
     "execution_count": 43,
     "metadata": {},
     "output_type": "execute_result"
    }
   ],
   "source": [
    "df5.shape"
   ]
  },
  {
   "cell_type": "code",
   "execution_count": 44,
   "id": "8286455f",
   "metadata": {
    "execution": {
     "iopub.execute_input": "2021-09-20T08:46:48.696474Z",
     "iopub.status.busy": "2021-09-20T08:46:48.694050Z",
     "iopub.status.idle": "2021-09-20T08:46:48.702565Z",
     "shell.execute_reply": "2021-09-20T08:46:48.701874Z",
     "shell.execute_reply.started": "2021-09-20T08:43:03.683005Z"
    },
    "papermill": {
     "duration": 0.060085,
     "end_time": "2021-09-20T08:46:48.702820",
     "exception": false,
     "start_time": "2021-09-20T08:46:48.642735",
     "status": "completed"
    },
    "tags": []
   },
   "outputs": [
    {
     "data": {
      "text/plain": [
       "(12502, 7)"
      ]
     },
     "execution_count": 44,
     "metadata": {},
     "output_type": "execute_result"
    }
   ],
   "source": [
    "df6=df5[~(df5.total_sqft/df5.bhk<300)]\n",
    "df6.shape"
   ]
  },
  {
   "cell_type": "code",
   "execution_count": 45,
   "id": "c17a2ff2",
   "metadata": {
    "execution": {
     "iopub.execute_input": "2021-09-20T08:46:48.805213Z",
     "iopub.status.busy": "2021-09-20T08:46:48.804123Z",
     "iopub.status.idle": "2021-09-20T08:46:48.812534Z",
     "shell.execute_reply": "2021-09-20T08:46:48.812998Z",
     "shell.execute_reply.started": "2021-09-20T08:43:08.397106Z"
    },
    "papermill": {
     "duration": 0.062306,
     "end_time": "2021-09-20T08:46:48.813197",
     "exception": false,
     "start_time": "2021-09-20T08:46:48.750891",
     "status": "completed"
    },
    "tags": []
   },
   "outputs": [
    {
     "data": {
      "text/plain": [
       "count     12456.000000\n",
       "mean       6308.502826\n",
       "std        4168.127339\n",
       "min         267.829813\n",
       "25%        4210.526316\n",
       "50%        5294.117647\n",
       "75%        6916.666667\n",
       "max      176470.588235\n",
       "Name: price_per_sqft, dtype: float64"
      ]
     },
     "execution_count": 45,
     "metadata": {},
     "output_type": "execute_result"
    }
   ],
   "source": [
    "df6.price_per_sqft.describe()"
   ]
  },
  {
   "cell_type": "code",
   "execution_count": 46,
   "id": "47accdcc",
   "metadata": {
    "execution": {
     "iopub.execute_input": "2021-09-20T08:46:48.920586Z",
     "iopub.status.busy": "2021-09-20T08:46:48.914562Z",
     "iopub.status.idle": "2021-09-20T08:46:49.387683Z",
     "shell.execute_reply": "2021-09-20T08:46:49.388253Z",
     "shell.execute_reply.started": "2021-09-20T08:43:14.807166Z"
    },
    "papermill": {
     "duration": 0.526129,
     "end_time": "2021-09-20T08:46:49.388427",
     "exception": false,
     "start_time": "2021-09-20T08:46:48.862298",
     "status": "completed"
    },
    "tags": []
   },
   "outputs": [
    {
     "data": {
      "text/plain": [
       "(10244, 7)"
      ]
     },
     "execution_count": 46,
     "metadata": {},
     "output_type": "execute_result"
    }
   ],
   "source": [
    "def remove_pps_outliers(df):\n",
    "    df_out=pd.DataFrame()\n",
    "    for key,subdf in df.groupby('location'):\n",
    "        m=np.mean(subdf.price_per_sqft)\n",
    "        st=np.std(subdf.price_per_sqft)\n",
    "        reduced_df=subdf[(subdf.price_per_sqft>(m-st))&(subdf.price_per_sqft<=(m+st))]\n",
    "        df_out=pd.concat([df_out,reduced_df],ignore_index=True)\n",
    "    return df_out\n",
    "df7=remove_pps_outliers(df6)\n",
    "df7.shape"
   ]
  },
  {
   "cell_type": "code",
   "execution_count": 47,
   "id": "7e276a43",
   "metadata": {
    "execution": {
     "iopub.execute_input": "2021-09-20T08:46:49.498837Z",
     "iopub.status.busy": "2021-09-20T08:46:49.498139Z",
     "iopub.status.idle": "2021-09-20T08:46:49.854805Z",
     "shell.execute_reply": "2021-09-20T08:46:49.854300Z",
     "shell.execute_reply.started": "2021-09-20T08:43:20.723706Z"
    },
    "papermill": {
     "duration": 0.416882,
     "end_time": "2021-09-20T08:46:49.854950",
     "exception": false,
     "start_time": "2021-09-20T08:46:49.438068",
     "status": "completed"
    },
    "tags": []
   },
   "outputs": [
    {
     "data": {
      "image/png": "[encoded data removed]",
      "text/plain": [
       "<Figure size 1500x1000 with 1 Axes>"
      ]
     },
     "metadata": {},
     "output_type": "display_data"
    }
   ],
   "source": [
    "def plot_scatter_chart (df,location):\n",
    "    bhk2=df[(df.location==location) & (df.bhk==2)]\n",
    "    bhk3=df[(df.location==location) & (df.bhk==3)]\n",
    "    matplotlib.rcParams['figure.figsize']=(15,10)\n",
    "    plt.scatter(bhk2.total_sqft,bhk2.price,color='blue',label='2 BHK',s=50,alpha=0.5)\n",
    "    plt.scatter(bhk3.total_sqft,bhk3.price,marker='+',color='green',label='3 BHK',s=50)\n",
    "    plt.xlabel('Total Square Feet Area')\n",
    "    plt.ylabel('Price Per Square Feet')\n",
    "    plt.title(location)\n",
    "    plt.legend()\n",
    "\n",
    "plot_scatter_chart(df7,'Hebbal')"
   ]
  },
  {
   "cell_type": "code",
   "execution_count": 48,
   "id": "83032e77",
   "metadata": {
    "execution": {
     "iopub.execute_input": "2021-09-20T08:46:49.963780Z",
     "iopub.status.busy": "2021-09-20T08:46:49.963041Z",
     "iopub.status.idle": "2021-09-20T08:46:50.585379Z",
     "shell.execute_reply": "2021-09-20T08:46:50.584841Z",
     "shell.execute_reply.started": "2021-09-20T08:43:27.225606Z"
    },
    "papermill": {
     "duration": 0.681151,
     "end_time": "2021-09-20T08:46:50.585524",
     "exception": false,
     "start_time": "2021-09-20T08:46:49.904373",
     "status": "completed"
    },
    "tags": []
   },
   "outputs": [
    {
     "data": {
      "text/plain": [
       "(7342, 7)"
      ]
     },
     "execution_count": 48,
     "metadata": {},
     "output_type": "execute_result"
    }
   ],
   "source": [
    "def remove_bhk_outliers(df):\n",
    "    exclude_indices=np.array([])\n",
    "    for location,location_df in df.groupby('location'):\n",
    "        bhk_stats={}\n",
    "        for bhk,bhk_df in location_df.groupby('bhk'):\n",
    "            bhk_stats[bhk]={\n",
    "                'mean': np.mean(bhk_df.price_per_sqft),\n",
    "                'std': np.std(bhk_df.price_per_sqft),\n",
    "                'count': bhk_df.shape[0]\n",
    "            }\n",
    "        for bhk,bhk_df in location_df.groupby('bhk'):\n",
    "            stats=bhk_stats.get(bhk-1)\n",
    "            if stats and stats['count']>5:\n",
    "                exclude_indices=np.append(exclude_indices,bhk_df[bhk_df.price_per_sqft<(stats['mean'])].index.values)\n",
    "    return df.drop(exclude_indices,axis='index')\n",
    "df8=remove_bhk_outliers(df7)\n",
    "df8.shape"
   ]
  },
  {
   "cell_type": "code",
   "execution_count": 49,
   "id": "c4d185ee",
   "metadata": {
    "execution": {
     "iopub.execute_input": "2021-09-20T08:46:50.715496Z",
     "iopub.status.busy": "2021-09-20T08:46:50.714773Z",
     "iopub.status.idle": "2021-09-20T08:46:51.009128Z",
     "shell.execute_reply": "2021-09-20T08:46:51.008433Z",
     "shell.execute_reply.started": "2021-09-20T08:43:31.266873Z"
    },
    "papermill": {
     "duration": 0.372958,
     "end_time": "2021-09-20T08:46:51.009290",
     "exception": false,
     "start_time": "2021-09-20T08:46:50.636332",
     "status": "completed"
    },
    "tags": []
   },
   "outputs": [
    {
     "data": {
      "image/png": "[encoded data removed]",
      "text/plain": [
       "<Figure size 1500x1000 with 1 Axes>"
      ]
     },
     "metadata": {},
     "output_type": "display_data"
    }
   ],
   "source": [
    "def plot_scatter_chart (df,location):\n",
    "    bhk2=df[(df.location==location) & (df.bhk==2)]\n",
    "    bhk3=df[(df.location==location) & (df.bhk==3)]\n",
    "    matplotlib.rcParams['figure.figsize']=(15,10)\n",
    "    plt.scatter(bhk2.total_sqft,bhk2.price,color='blue',label='2 BHK',s=50,alpha=0.5)\n",
    "    plt.scatter(bhk3.total_sqft,bhk3.price,marker='+',color='green',label='3 BHK',s=50)\n",
    "    plt.xlabel('Total Square Feet Area')\n",
    "    plt.ylabel('Price Per Square Feet')\n",
    "    plt.title(location)\n",
    "    plt.legend()\n",
    "\n",
    "plot_scatter_chart(df8,'Hebbal')"
   ]
  },
  {
   "cell_type": "code",
   "execution_count": 50,
   "id": "bd67adcb",
   "metadata": {
    "execution": {
     "iopub.execute_input": "2021-09-20T08:46:51.115527Z",
     "iopub.status.busy": "2021-09-20T08:46:51.114865Z",
     "iopub.status.idle": "2021-09-20T08:46:51.387015Z",
     "shell.execute_reply": "2021-09-20T08:46:51.386273Z",
     "shell.execute_reply.started": "2021-09-20T08:43:36.820030Z"
    },
    "papermill": {
     "duration": 0.326257,
     "end_time": "2021-09-20T08:46:51.387189",
     "exception": false,
     "start_time": "2021-09-20T08:46:51.060932",
     "status": "completed"
    },
    "tags": []
   },
   "outputs": [
    {
     "data": {
      "text/plain": [
       "Text(0, 0.5, 'Count')"
      ]
     },
     "execution_count": 50,
     "metadata": {},
     "output_type": "execute_result"
    },
    {
     "data": {
      "image/png": "[encoded data removed]",
      "text/plain": [
       "<Figure size 2000x1000 with 1 Axes>"
      ]
     },
     "metadata": {},
     "output_type": "display_data"
    }
   ],
   "source": [
    "matplotlib.rcParams['figure.figsize']=(20,10)\n",
    "plt.hist(df8.price_per_sqft,rwidth=0.8)\n",
    "plt.xlabel('Price per square feet')\n",
    "plt.ylabel('Count')"
   ]
  },
  {
   "cell_type": "code",
   "execution_count": 51,
   "id": "bfac5f8f",
   "metadata": {
    "execution": {
     "iopub.execute_input": "2021-09-20T08:46:51.501477Z",
     "iopub.status.busy": "2021-09-20T08:46:51.500753Z",
     "iopub.status.idle": "2021-09-20T08:46:51.503713Z",
     "shell.execute_reply": "2021-09-20T08:46:51.504286Z",
     "shell.execute_reply.started": "2021-09-20T08:43:47.715713Z"
    },
    "papermill": {
     "duration": 0.064969,
     "end_time": "2021-09-20T08:46:51.504551",
     "exception": false,
     "start_time": "2021-09-20T08:46:51.439582",
     "status": "completed"
    },
    "tags": []
   },
   "outputs": [
    {
     "data": {
      "text/plain": [
       "(7264, 7)"
      ]
     },
     "execution_count": 51,
     "metadata": {},
     "output_type": "execute_result"
    }
   ],
   "source": [
    "df9=df8[df8.bath<df8.bhk+2]\n",
    "df9.shape"
   ]
  },
  {
   "cell_type": "code",
   "execution_count": 52,
   "id": "7b9149b1",
   "metadata": {
    "execution": {
     "iopub.execute_input": "2021-09-20T08:46:51.627138Z",
     "iopub.status.busy": "2021-09-20T08:46:51.626437Z",
     "iopub.status.idle": "2021-09-20T08:46:51.629131Z",
     "shell.execute_reply": "2021-09-20T08:46:51.629658Z",
     "shell.execute_reply.started": "2021-09-20T08:43:54.665679Z"
    },
    "papermill": {
     "duration": 0.071121,
     "end_time": "2021-09-20T08:46:51.629828",
     "exception": false,
     "start_time": "2021-09-20T08:46:51.558707",
     "status": "completed"
    },
    "tags": []
   },
   "outputs": [
    {
     "data": {
      "text/html": [
       "<div>\n",
       "<style scoped>\n",
       "    .dataframe tbody tr th:only-of-type {\n",
       "        vertical-align: middle;\n",
       "    }\n",
       "\n",
       "    .dataframe tbody tr th {\n",
       "        vertical-align: top;\n",
       "    }\n",
       "\n",
       "    .dataframe thead th {\n",
       "        text-align: right;\n",
       "    }\n",
       "</style>\n",
       "<table border=\"1\" class=\"dataframe\">\n",
       "  <thead>\n",
       "    <tr style=\"text-align: right;\">\n",
       "      <th></th>\n",
       "      <th>location</th>\n",
       "      <th>total_sqft</th>\n",
       "      <th>bath</th>\n",
       "      <th>price</th>\n",
       "      <th>bhk</th>\n",
       "    </tr>\n",
       "  </thead>\n",
       "  <tbody>\n",
       "    <tr>\n",
       "      <th>1</th>\n",
       "      <td>Devarachikkanahalli</td>\n",
       "      <td>1250.0</td>\n",
       "      <td>2.0</td>\n",
       "      <td>40.0</td>\n",
       "      <td>2</td>\n",
       "    </tr>\n",
       "    <tr>\n",
       "      <th>2</th>\n",
       "      <td>Devarachikkanahalli</td>\n",
       "      <td>1200.0</td>\n",
       "      <td>2.0</td>\n",
       "      <td>83.0</td>\n",
       "      <td>2</td>\n",
       "    </tr>\n",
       "    <tr>\n",
       "      <th>3</th>\n",
       "      <td>Devarachikkanahalli</td>\n",
       "      <td>1170.0</td>\n",
       "      <td>2.0</td>\n",
       "      <td>40.0</td>\n",
       "      <td>2</td>\n",
       "    </tr>\n",
       "    <tr>\n",
       "      <th>4</th>\n",
       "      <td>Devarachikkanahalli</td>\n",
       "      <td>1425.0</td>\n",
       "      <td>2.0</td>\n",
       "      <td>65.0</td>\n",
       "      <td>3</td>\n",
       "    </tr>\n",
       "    <tr>\n",
       "      <th>5</th>\n",
       "      <td>Devarachikkanahalli</td>\n",
       "      <td>947.0</td>\n",
       "      <td>2.0</td>\n",
       "      <td>43.0</td>\n",
       "      <td>2</td>\n",
       "    </tr>\n",
       "  </tbody>\n",
       "</table>\n",
       "</div>"
      ],
      "text/plain": [
       "               location  total_sqft  bath  price  bhk\n",
       "1   Devarachikkanahalli      1250.0   2.0   40.0    2\n",
       "2   Devarachikkanahalli      1200.0   2.0   83.0    2\n",
       "3   Devarachikkanahalli      1170.0   2.0   40.0    2\n",
       "4   Devarachikkanahalli      1425.0   2.0   65.0    3\n",
       "5   Devarachikkanahalli       947.0   2.0   43.0    2"
      ]
     },
     "execution_count": 52,
     "metadata": {},
     "output_type": "execute_result"
    }
   ],
   "source": [
    "df10=df9.drop(['size','price_per_sqft'],axis='columns')\n",
    "df10.head()"
   ]
  },
  {
   "cell_type": "code",
   "execution_count": 53,
   "id": "41e13e3a",
   "metadata": {
    "execution": {
     "iopub.execute_input": "2021-09-20T08:46:51.750066Z",
     "iopub.status.busy": "2021-09-20T08:46:51.746518Z",
     "iopub.status.idle": "2021-09-20T08:46:51.759053Z",
     "shell.execute_reply": "2021-09-20T08:46:51.758231Z",
     "shell.execute_reply.started": "2021-09-20T08:44:00.334565Z"
    },
    "papermill": {
     "duration": 0.075474,
     "end_time": "2021-09-20T08:46:51.759248",
     "exception": false,
     "start_time": "2021-09-20T08:46:51.683774",
     "status": "completed"
    },
    "tags": []
   },
   "outputs": [],
   "source": [
    "dummies=pd.get_dummies(df10.location)"
   ]
  },
  {
   "cell_type": "code",
   "execution_count": 54,
   "id": "461d04d7",
   "metadata": {
    "execution": {
     "iopub.execute_input": "2021-09-20T08:46:51.874415Z",
     "iopub.status.busy": "2021-09-20T08:46:51.873691Z",
     "iopub.status.idle": "2021-09-20T08:46:51.880869Z",
     "shell.execute_reply": "2021-09-20T08:46:51.880159Z",
     "shell.execute_reply.started": "2021-09-20T08:44:06.914347Z"
    },
    "papermill": {
     "duration": 0.066852,
     "end_time": "2021-09-20T08:46:51.881015",
     "exception": false,
     "start_time": "2021-09-20T08:46:51.814163",
     "status": "completed"
    },
    "tags": []
   },
   "outputs": [],
   "source": [
    "df11=pd.concat([df10,dummies.drop('other',axis='columns')],axis='columns')\n"
   ]
  },
  {
   "cell_type": "code",
   "execution_count": 55,
   "id": "ad2cc32a",
   "metadata": {
    "execution": {
     "iopub.execute_input": "2021-09-20T08:46:51.994029Z",
     "iopub.status.busy": "2021-09-20T08:46:51.993321Z",
     "iopub.status.idle": "2021-09-20T08:46:52.016554Z",
     "shell.execute_reply": "2021-09-20T08:46:52.016010Z",
     "shell.execute_reply.started": "2021-09-20T08:44:13.632907Z"
    },
    "papermill": {
     "duration": 0.082601,
     "end_time": "2021-09-20T08:46:52.016706",
     "exception": false,
     "start_time": "2021-09-20T08:46:51.934105",
     "status": "completed"
    },
    "tags": []
   },
   "outputs": [
    {
     "data": {
      "text/html": [
       "<div>\n",
       "<style scoped>\n",
       "    .dataframe tbody tr th:only-of-type {\n",
       "        vertical-align: middle;\n",
       "    }\n",
       "\n",
       "    .dataframe tbody tr th {\n",
       "        vertical-align: top;\n",
       "    }\n",
       "\n",
       "    .dataframe thead th {\n",
       "        text-align: right;\n",
       "    }\n",
       "</style>\n",
       "<table border=\"1\" class=\"dataframe\">\n",
       "  <thead>\n",
       "    <tr style=\"text-align: right;\">\n",
       "      <th></th>\n",
       "      <th>total_sqft</th>\n",
       "      <th>bath</th>\n",
       "      <th>price</th>\n",
       "      <th>bhk</th>\n",
       "      <th>Devarachikkanahalli</th>\n",
       "      <th>1st Block Jayanagar</th>\n",
       "      <th>1st Phase JP Nagar</th>\n",
       "      <th>2nd Phase Judicial Layout</th>\n",
       "      <th>2nd Stage Nagarbhavi</th>\n",
       "      <th>5th Block Hbr Layout</th>\n",
       "      <th>...</th>\n",
       "      <th>Vijayanagar</th>\n",
       "      <th>Vishveshwarya Layout</th>\n",
       "      <th>Vishwapriya Layout</th>\n",
       "      <th>Vittasandra</th>\n",
       "      <th>Whitefield</th>\n",
       "      <th>Yelachenahalli</th>\n",
       "      <th>Yelahanka</th>\n",
       "      <th>Yelahanka New Town</th>\n",
       "      <th>Yelenahalli</th>\n",
       "      <th>Yeshwanthpur</th>\n",
       "    </tr>\n",
       "  </thead>\n",
       "  <tbody>\n",
       "    <tr>\n",
       "      <th>1</th>\n",
       "      <td>1250.0</td>\n",
       "      <td>2.0</td>\n",
       "      <td>40.0</td>\n",
       "      <td>2</td>\n",
       "      <td>1</td>\n",
       "      <td>0</td>\n",
       "      <td>0</td>\n",
       "      <td>0</td>\n",
       "      <td>0</td>\n",
       "      <td>0</td>\n",
       "      <td>...</td>\n",
       "      <td>0</td>\n",
       "      <td>0</td>\n",
       "      <td>0</td>\n",
       "      <td>0</td>\n",
       "      <td>0</td>\n",
       "      <td>0</td>\n",
       "      <td>0</td>\n",
       "      <td>0</td>\n",
       "      <td>0</td>\n",
       "      <td>0</td>\n",
       "    </tr>\n",
       "    <tr>\n",
       "      <th>2</th>\n",
       "      <td>1200.0</td>\n",
       "      <td>2.0</td>\n",
       "      <td>83.0</td>\n",
       "      <td>2</td>\n",
       "      <td>1</td>\n",
       "      <td>0</td>\n",
       "      <td>0</td>\n",
       "      <td>0</td>\n",
       "      <td>0</td>\n",
       "      <td>0</td>\n",
       "      <td>...</td>\n",
       "      <td>0</td>\n",
       "      <td>0</td>\n",
       "      <td>0</td>\n",
       "      <td>0</td>\n",
       "      <td>0</td>\n",
       "      <td>0</td>\n",
       "      <td>0</td>\n",
       "      <td>0</td>\n",
       "      <td>0</td>\n",
       "      <td>0</td>\n",
       "    </tr>\n",
       "    <tr>\n",
       "      <th>3</th>\n",
       "      <td>1170.0</td>\n",
       "      <td>2.0</td>\n",
       "      <td>40.0</td>\n",
       "      <td>2</td>\n",
       "      <td>1</td>\n",
       "      <td>0</td>\n",
       "      <td>0</td>\n",
       "      <td>0</td>\n",
       "      <td>0</td>\n",
       "      <td>0</td>\n",
       "      <td>...</td>\n",
       "      <td>0</td>\n",
       "      <td>0</td>\n",
       "      <td>0</td>\n",
       "      <td>0</td>\n",
       "      <td>0</td>\n",
       "      <td>0</td>\n",
       "      <td>0</td>\n",
       "      <td>0</td>\n",
       "      <td>0</td>\n",
       "      <td>0</td>\n",
       "    </tr>\n",
       "    <tr>\n",
       "      <th>4</th>\n",
       "      <td>1425.0</td>\n",
       "      <td>2.0</td>\n",
       "      <td>65.0</td>\n",
       "      <td>3</td>\n",
       "      <td>1</td>\n",
       "      <td>0</td>\n",
       "      <td>0</td>\n",
       "      <td>0</td>\n",
       "      <td>0</td>\n",
       "      <td>0</td>\n",
       "      <td>...</td>\n",
       "      <td>0</td>\n",
       "      <td>0</td>\n",
       "      <td>0</td>\n",
       "      <td>0</td>\n",
       "      <td>0</td>\n",
       "      <td>0</td>\n",
       "      <td>0</td>\n",
       "      <td>0</td>\n",
       "      <td>0</td>\n",
       "      <td>0</td>\n",
       "    </tr>\n",
       "    <tr>\n",
       "      <th>5</th>\n",
       "      <td>947.0</td>\n",
       "      <td>2.0</td>\n",
       "      <td>43.0</td>\n",
       "      <td>2</td>\n",
       "      <td>1</td>\n",
       "      <td>0</td>\n",
       "      <td>0</td>\n",
       "      <td>0</td>\n",
       "      <td>0</td>\n",
       "      <td>0</td>\n",
       "      <td>...</td>\n",
       "      <td>0</td>\n",
       "      <td>0</td>\n",
       "      <td>0</td>\n",
       "      <td>0</td>\n",
       "      <td>0</td>\n",
       "      <td>0</td>\n",
       "      <td>0</td>\n",
       "      <td>0</td>\n",
       "      <td>0</td>\n",
       "      <td>0</td>\n",
       "    </tr>\n",
       "  </tbody>\n",
       "</table>\n",
       "<p>5 rows × 245 columns</p>\n",
       "</div>"
      ],
      "text/plain": [
       "   total_sqft  bath  price  bhk   Devarachikkanahalli  1st Block Jayanagar  \\\n",
       "1      1250.0   2.0   40.0    2                     1                    0   \n",
       "2      1200.0   2.0   83.0    2                     1                    0   \n",
       "3      1170.0   2.0   40.0    2                     1                    0   \n",
       "4      1425.0   2.0   65.0    3                     1                    0   \n",
       "5       947.0   2.0   43.0    2                     1                    0   \n",
       "\n",
       "   1st Phase JP Nagar  2nd Phase Judicial Layout  2nd Stage Nagarbhavi  \\\n",
       "1                   0                          0                     0   \n",
       "2                   0                          0                     0   \n",
       "3                   0                          0                     0   \n",
       "4                   0                          0                     0   \n",
       "5                   0                          0                     0   \n",
       "\n",
       "   5th Block Hbr Layout  ...  Vijayanagar  Vishveshwarya Layout  \\\n",
       "1                     0  ...            0                     0   \n",
       "2                     0  ...            0                     0   \n",
       "3                     0  ...            0                     0   \n",
       "4                     0  ...            0                     0   \n",
       "5                     0  ...            0                     0   \n",
       "\n",
       "   Vishwapriya Layout  Vittasandra  Whitefield  Yelachenahalli  Yelahanka  \\\n",
       "1                   0            0           0               0          0   \n",
       "2                   0            0           0               0          0   \n",
       "3                   0            0           0               0          0   \n",
       "4                   0            0           0               0          0   \n",
       "5                   0            0           0               0          0   \n",
       "\n",
       "   Yelahanka New Town  Yelenahalli  Yeshwanthpur  \n",
       "1                   0            0             0  \n",
       "2                   0            0             0  \n",
       "3                   0            0             0  \n",
       "4                   0            0             0  \n",
       "5                   0            0             0  \n",
       "\n",
       "[5 rows x 245 columns]"
      ]
     },
     "execution_count": 55,
     "metadata": {},
     "output_type": "execute_result"
    }
   ],
   "source": [
    "df12=df11.drop('location',axis='columns')\n",
    "df12.head()"
   ]
  },
  {
   "cell_type": "code",
   "execution_count": 56,
   "id": "5c8ec6ed",
   "metadata": {
    "execution": {
     "iopub.execute_input": "2021-09-20T08:46:52.131481Z",
     "iopub.status.busy": "2021-09-20T08:46:52.130785Z",
     "iopub.status.idle": "2021-09-20T08:46:52.135967Z",
     "shell.execute_reply": "2021-09-20T08:46:52.136475Z",
     "shell.execute_reply.started": "2021-09-20T08:44:37.802502Z"
    },
    "papermill": {
     "duration": 0.066158,
     "end_time": "2021-09-20T08:46:52.136655",
     "exception": false,
     "start_time": "2021-09-20T08:46:52.070497",
     "status": "completed"
    },
    "tags": []
   },
   "outputs": [],
   "source": [
    "X=df12.drop('price',axis='columns')\n",
    "\n",
    "\n",
    "y=df12.price"
   ]
  },
  {
   "cell_type": "code",
   "execution_count": 57,
   "id": "dad8c787",
   "metadata": {
    "execution": {
     "iopub.execute_input": "2021-09-20T08:46:52.250282Z",
     "iopub.status.busy": "2021-09-20T08:46:52.249624Z",
     "iopub.status.idle": "2021-09-20T08:46:53.229914Z",
     "shell.execute_reply": "2021-09-20T08:46:53.230439Z",
     "shell.execute_reply.started": "2021-09-20T08:44:49.357062Z"
    },
    "papermill": {
     "duration": 1.039973,
     "end_time": "2021-09-20T08:46:53.230622",
     "exception": false,
     "start_time": "2021-09-20T08:46:52.190649",
     "status": "completed"
    },
    "tags": []
   },
   "outputs": [],
   "source": [
    "from sklearn.model_selection import train_test_split\n",
    "\n",
    "X_train,X_test,y_train,y_test =train_test_split(X,y,test_size=0.2,random_state=10)\n"
   ]
  },
  {
   "cell_type": "code",
   "execution_count": 58,
   "id": "40465a37",
   "metadata": {
    "execution": {
     "iopub.execute_input": "2021-09-20T08:46:53.346147Z",
     "iopub.status.busy": "2021-09-20T08:46:53.345460Z",
     "iopub.status.idle": "2021-09-20T08:46:53.557747Z",
     "shell.execute_reply": "2021-09-20T08:46:53.558966Z",
     "shell.execute_reply.started": "2021-09-20T08:44:52.248358Z"
    },
    "papermill": {
     "duration": 0.273499,
     "end_time": "2021-09-20T08:46:53.559278",
     "exception": false,
     "start_time": "2021-09-20T08:46:53.285779",
     "status": "completed"
    },
    "tags": []
   },
   "outputs": [
    {
     "data": {
      "text/plain": [
       "0.7696224927820562"
      ]
     },
     "execution_count": 58,
     "metadata": {},
     "output_type": "execute_result"
    }
   ],
   "source": [
    "from sklearn.linear_model import LinearRegression\n",
    "\n",
    "lr=LinearRegression()\n",
    "lr.fit(X_train,y_train)\n",
    "lr.score(X_test,y_test)"
   ]
  },
  {
   "cell_type": "code",
   "execution_count": 59,
   "id": "fcbfe189",
   "metadata": {
    "execution": {
     "iopub.execute_input": "2021-09-20T08:46:53.726814Z",
     "iopub.status.busy": "2021-09-20T08:46:53.720879Z",
     "iopub.status.idle": "2021-09-20T08:46:54.294907Z",
     "shell.execute_reply": "2021-09-20T08:46:54.296289Z",
     "shell.execute_reply.started": "2021-09-20T08:45:00.077528Z"
    },
    "papermill": {
     "duration": 0.637114,
     "end_time": "2021-09-20T08:46:54.296561",
     "exception": false,
     "start_time": "2021-09-20T08:46:53.659447",
     "status": "completed"
    },
    "tags": []
   },
   "outputs": [
    {
     "data": {
      "text/plain": [
       "array([0.82622151, 0.81408431, 0.87757267, 0.84822717, 0.86091226])"
      ]
     },
     "execution_count": 59,
     "metadata": {},
     "output_type": "execute_result"
    }
   ],
   "source": [
    "from sklearn.model_selection import ShuffleSplit\n",
    "from sklearn.model_selection import cross_val_score\n",
    "\n",
    "cv=ShuffleSplit(n_splits=5,test_size=0.2,random_state=0)\n",
    "\n",
    "cross_val_score(LinearRegression(),X,y,cv=cv)"
   ]
  },
  {
   "cell_type": "code",
   "execution_count": 62,
   "id": "9ba510e8",
   "metadata": {
    "execution": {
     "iopub.execute_input": "2021-09-20T08:46:54.462539Z",
     "iopub.status.busy": "2021-09-20T08:46:54.461853Z",
     "iopub.status.idle": "2021-09-20T08:47:00.385282Z",
     "shell.execute_reply": "2021-09-20T08:47:00.384625Z",
     "shell.execute_reply.started": "2021-09-20T08:45:05.895877Z"
    },
    "papermill": {
     "duration": 5.98995,
     "end_time": "2021-09-20T08:47:00.385424",
     "exception": false,
     "start_time": "2021-09-20T08:46:54.395474",
     "status": "completed"
    },
    "tags": []
   },
   "outputs": [
    {
     "name": "stderr",
     "output_type": "stream",
     "text": [
      "c:\\Users\\unkno\\AppData\\Local\\Programs\\Python\\Python311\\Lib\\site-packages\\sklearn\\model_selection\\_validation.py:378: FitFailedWarning: \n",
      "10 fits failed out of a total of 20.\n",
      "The score on these train-test partitions for these parameters will be set to nan.\n",
      "If these failures are not expected, you can try to debug them by setting error_score='raise'.\n",
      "\n",
      "Below are more details about the failures:\n",
      "--------------------------------------------------------------------------------\n",
      "10 fits failed with the following error:\n",
      "Traceback (most recent call last):\n",
      "  File \"c:\\Users\\unkno\\AppData\\Local\\Programs\\Python\\Python311\\Lib\\site-packages\\sklearn\\model_selection\\_validation.py\", line 686, in _fit_and_score\n",
      "    estimator.fit(X_train, y_train, **fit_params)\n",
      "  File \"c:\\Users\\unkno\\AppData\\Local\\Programs\\Python\\Python311\\Lib\\site-packages\\sklearn\\tree\\_classes.py\", line 1247, in fit\n",
      "    super().fit(\n",
      "  File \"c:\\Users\\unkno\\AppData\\Local\\Programs\\Python\\Python311\\Lib\\site-packages\\sklearn\\tree\\_classes.py\", line 177, in fit\n",
      "    self._validate_params()\n",
      "  File \"c:\\Users\\unkno\\AppData\\Local\\Programs\\Python\\Python311\\Lib\\site-packages\\sklearn\\base.py\", line 600, in _validate_params\n",
      "    validate_parameter_constraints(\n",
      "  File \"c:\\Users\\unkno\\AppData\\Local\\Programs\\Python\\Python311\\Lib\\site-packages\\sklearn\\utils\\_param_validation.py\", line 97, in validate_parameter_constraints\n",
      "    raise InvalidParameterError(\n",
      "sklearn.utils._param_validation.InvalidParameterError: The 'criterion' parameter of DecisionTreeRegressor must be a str among {'absolute_error', 'squared_error', 'poisson', 'friedman_mse'}. Got 'mse' instead.\n",
      "\n",
      "  warnings.warn(some_fits_failed_message, FitFailedWarning)\n",
      "c:\\Users\\unkno\\AppData\\Local\\Programs\\Python\\Python311\\Lib\\site-packages\\sklearn\\model_selection\\_search.py:952: UserWarning: One or more of the test scores are non-finite: [       nan        nan 0.68228795 0.69428748]\n",
      "  warnings.warn(\n"
     ]
    },
    {
     "data": {
      "text/html": [
       "<div>\n",
       "<style scoped>\n",
       "    .dataframe tbody tr th:only-of-type {\n",
       "        vertical-align: middle;\n",
       "    }\n",
       "\n",
       "    .dataframe tbody tr th {\n",
       "        vertical-align: top;\n",
       "    }\n",
       "\n",
       "    .dataframe thead th {\n",
       "        text-align: right;\n",
       "    }\n",
       "</style>\n",
       "<table border=\"1\" class=\"dataframe\">\n",
       "  <thead>\n",
       "    <tr style=\"text-align: right;\">\n",
       "      <th></th>\n",
       "      <th>model</th>\n",
       "      <th>best_score</th>\n",
       "      <th>best_params</th>\n",
       "    </tr>\n",
       "  </thead>\n",
       "  <tbody>\n",
       "    <tr>\n",
       "      <th>0</th>\n",
       "      <td>linear</td>\n",
       "      <td>0.845847</td>\n",
       "      <td>{'fit_intercept': False}</td>\n",
       "    </tr>\n",
       "    <tr>\n",
       "      <th>1</th>\n",
       "      <td>lasoo</td>\n",
       "      <td>0.709548</td>\n",
       "      <td>{'alpha': 1, 'selection': 'random'}</td>\n",
       "    </tr>\n",
       "    <tr>\n",
       "      <th>2</th>\n",
       "      <td>decision_tree</td>\n",
       "      <td>0.694287</td>\n",
       "      <td>{'criterion': 'friedman_mse', 'splitter': 'ran...</td>\n",
       "    </tr>\n",
       "  </tbody>\n",
       "</table>\n",
       "</div>"
      ],
      "text/plain": [
       "           model  best_score  \\\n",
       "0         linear    0.845847   \n",
       "1          lasoo    0.709548   \n",
       "2  decision_tree    0.694287   \n",
       "\n",
       "                                         best_params  \n",
       "0                           {'fit_intercept': False}  \n",
       "1                {'alpha': 1, 'selection': 'random'}  \n",
       "2  {'criterion': 'friedman_mse', 'splitter': 'ran...  "
      ]
     },
     "execution_count": 62,
     "metadata": {},
     "output_type": "execute_result"
    }
   ],
   "source": [
    "from sklearn.model_selection import GridSearchCV\n",
    "\n",
    "from sklearn.linear_model import Lasso\n",
    "from sklearn.tree import DecisionTreeRegressor\n",
    "\n",
    "def find_best_mode(X,y):\n",
    "    \n",
    "    algos={\n",
    "        'linear':{\n",
    "            'model':LinearRegression(),\n",
    "            'params': {               \n",
    "                'fit_intercept': [True,False]\n",
    "                }\n",
    "        },\n",
    "        'lasoo':{\n",
    "            'model': Lasso(),\n",
    "            'params': {\n",
    "                'alpha':[1,2],\n",
    "                'selection':['random','cyclic']\n",
    "                }\n",
    "        },\n",
    "        'decision_tree':{\n",
    "            'model': DecisionTreeRegressor(),\n",
    "            'params': {\n",
    "                'criterion':['mse','friedman_mse'],\n",
    "                'splitter':['best','random']\n",
    "                }\n",
    "            } \n",
    "        }\n",
    "    \n",
    "    scores = []\n",
    "    cv=ShuffleSplit(n_splits=5,test_size=0.2,random_state=0)\n",
    "    for algo_name,config in algos.items():\n",
    "        \n",
    "        gs=GridSearchCV(config['model'],config['params'],cv=cv,return_train_score=False)\n",
    "        gs.fit(X,y)\n",
    "        scores.append({    \n",
    "            'model':algo_name,\n",
    "            'best_score': gs.best_score_,\n",
    "            'best_params': gs.best_params_\n",
    "        })\n",
    "    return pd.DataFrame(scores,columns=['model','best_score','best_params'])\n",
    "find_best_mode(X,y)"
   ]
  },
  {
   "cell_type": "code",
   "execution_count": null,
   "id": "31d9a90f",
   "metadata": {
    "execution": {
     "iopub.execute_input": "2021-09-20T08:47:00.499716Z",
     "iopub.status.busy": "2021-09-20T08:47:00.498951Z",
     "iopub.status.idle": "2021-09-20T08:47:00.503890Z",
     "shell.execute_reply": "2021-09-20T08:47:00.504470Z",
     "shell.execute_reply.started": "2021-09-20T08:45:12.361760Z"
    },
    "papermill": {
     "duration": 0.064586,
     "end_time": "2021-09-20T08:47:00.504647",
     "exception": false,
     "start_time": "2021-09-20T08:47:00.440061",
     "status": "completed"
    },
    "tags": []
   },
   "outputs": [
    {
     "data": {
      "text/plain": [
       "((5811, 244), (1453,))"
      ]
     },
     "execution_count": 44,
     "metadata": {},
     "output_type": "execute_result"
    }
   ],
   "source": [
    "X_train.shape,y_test.shape"
   ]
  },
  {
   "cell_type": "code",
   "execution_count": null,
   "id": "450757c4",
   "metadata": {
    "execution": {
     "iopub.execute_input": "2021-09-20T08:47:00.619900Z",
     "iopub.status.busy": "2021-09-20T08:47:00.618900Z",
     "iopub.status.idle": "2021-09-20T08:47:00.624269Z",
     "shell.execute_reply": "2021-09-20T08:47:00.624754Z",
     "shell.execute_reply.started": "2021-09-20T08:45:19.667650Z"
    },
    "papermill": {
     "duration": 0.065461,
     "end_time": "2021-09-20T08:47:00.624923",
     "exception": false,
     "start_time": "2021-09-20T08:47:00.559462",
     "status": "completed"
    },
    "tags": []
   },
   "outputs": [
    {
     "data": {
      "text/plain": [
       "Index(['total_sqft', 'bath', 'bhk', ' Devarachikkanahalli',\n",
       "       '1st Block Jayanagar', '1st Phase JP Nagar',\n",
       "       '2nd Phase Judicial Layout', '2nd Stage Nagarbhavi',\n",
       "       '5th Block Hbr Layout', '5th Phase JP Nagar',\n",
       "       ...\n",
       "       'Vijayanagar', 'Vishveshwarya Layout', 'Vishwapriya Layout',\n",
       "       'Vittasandra', 'Whitefield', 'Yelachenahalli', 'Yelahanka',\n",
       "       'Yelahanka New Town', 'Yelenahalli', 'Yeshwanthpur'],\n",
       "      dtype='object', length=244)"
      ]
     },
     "execution_count": 45,
     "metadata": {},
     "output_type": "execute_result"
    }
   ],
   "source": [
    "X.columns"
   ]
  },
  {
   "cell_type": "code",
   "execution_count": null,
   "id": "0d7848dd",
   "metadata": {
    "execution": {
     "iopub.execute_input": "2021-09-20T08:47:00.742606Z",
     "iopub.status.busy": "2021-09-20T08:47:00.739420Z",
     "iopub.status.idle": "2021-09-20T08:47:00.745497Z",
     "shell.execute_reply": "2021-09-20T08:47:00.744978Z",
     "shell.execute_reply.started": "2021-09-20T08:45:25.741177Z"
    },
    "papermill": {
     "duration": 0.06487,
     "end_time": "2021-09-20T08:47:00.745652",
     "exception": false,
     "start_time": "2021-09-20T08:47:00.680782",
     "status": "completed"
    },
    "tags": []
   },
   "outputs": [],
   "source": [
    "def predict_price(location,sqft,bath,bhk):\n",
    "    \n",
    "    loc_index=np.where(X.columns==location)[0][0]\n",
    "    x=np.zeros(len(X.columns))\n",
    "    x[0]=sqft\n",
    "    x[1]=bath\n",
    "    x[2]=bhk\n",
    "    if loc_index>=0:\n",
    "        x[loc_index]=1\n",
    "    return lr.predict([x])[0]"
   ]
  },
  {
   "cell_type": "code",
   "execution_count": null,
   "id": "eab0229c",
   "metadata": {
    "execution": {
     "iopub.execute_input": "2021-09-20T08:47:00.863977Z",
     "iopub.status.busy": "2021-09-20T08:47:00.863223Z",
     "iopub.status.idle": "2021-09-20T08:47:00.866156Z",
     "shell.execute_reply": "2021-09-20T08:47:00.866712Z",
     "shell.execute_reply.started": "2021-09-20T08:45:33.271177Z"
    },
    "papermill": {
     "duration": 0.065855,
     "end_time": "2021-09-20T08:47:00.866884",
     "exception": false,
     "start_time": "2021-09-20T08:47:00.801029",
     "status": "completed"
    },
    "tags": []
   },
   "outputs": [
    {
     "data": {
      "text/plain": [
       "185.74273053398434"
      ]
     },
     "execution_count": 47,
     "metadata": {},
     "output_type": "execute_result"
    }
   ],
   "source": [
    "predict_price('Indira Nagar',1000,4,5)"
   ]
  },
  {
   "cell_type": "code",
   "execution_count": null,
   "id": "5d189714",
   "metadata": {
    "papermill": {
     "duration": 0.055488,
     "end_time": "2021-09-20T08:47:00.977905",
     "exception": false,
     "start_time": "2021-09-20T08:47:00.922417",
     "status": "completed"
    },
    "tags": []
   },
   "outputs": [],
   "source": []
  }
 ],
 "metadata": {
  "kernelspec": {
   "display_name": "Python 3.11.2 64-bit",
   "language": "python",
   "name": "python3"
  },
  "language_info": {
   "codemirror_mode": {
    "name": "ipython",
    "version": 3
   },
   "file_extension": ".py",
   "mimetype": "text/x-python",
   "name": "python",
   "nbconvert_exporter": "python",
   "pygments_lexer": "ipython3",
   "version": "3.11.2"
  },
  "papermill": {
   "default_parameters": {},
   "duration": 25.991444,
   "end_time": "2021-09-20T08:47:02.615410",
   "environment_variables": {},
   "exception": null,
   "input_path": "__notebook__.ipynb",
   "output_path": "__notebook__.ipynb",
   "parameters": {},
   "start_time": "2021-09-20T08:46:36.623966",
   "version": "2.3.3"
  },
  "vscode": {
   "interpreter": {
    "hash": "0bdd31b1c29c11a71852f88eb6509bb1569959e4741e5ec60f05e370c1f22654"
   }
  }
 },
 "nbformat": 4,
 "nbformat_minor": 5
}
